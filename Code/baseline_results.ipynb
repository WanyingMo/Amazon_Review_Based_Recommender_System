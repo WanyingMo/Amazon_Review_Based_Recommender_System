{
 "cells": [
  {
   "cell_type": "code",
   "execution_count": 7,
   "metadata": {},
   "outputs": [],
   "source": [
    "import pandas as pd\n",
    "\n",
    "from surprise import Dataset, Reader, SVD, accuracy\n",
    "from surprise.model_selection import KFold\n",
    "\n",
    "train_csv_path = \"../Data/train_100k.csv\"\n",
    "validation_csv_path = \"../Data/validation_100k.csv\""
   ]
  },
  {
   "cell_type": "code",
   "execution_count": 32,
   "metadata": {},
   "outputs": [],
   "source": [
    "def baseline_slope_one(train_data, validation_data):\n",
    "    # Instantiate the SVD class from scikit-surprise\n",
    "    slope_one = SVD(verbose=True, n_epochs=25, n_factors=35)\n",
    "    #svd = SVD(n_epochs = n_epochs, verbose = True)\n",
    "    rmse, mae = [], []\n",
    "    slope_one.fit(train_data)\n",
    "    predictions = slope_one.test(validation_data)\n",
    "    rmse.append(accuracy.rmse(predictions, verbose = True))\n",
    "    mae.append(accuracy.mae(predictions, verbose = True))\n",
    "\n",
    "    return (predictions, rmse, mae)"
   ]
  },
  {
   "cell_type": "code",
   "execution_count": 36,
   "metadata": {},
   "outputs": [
    {
     "name": "stdout",
     "output_type": "stream",
     "text": [
      "             reviewerID        asin  overall\n",
      "0  A0003492LQH8LJXPWDMZ  B01BXL5I88      2.0\n",
      "1  A0003492LQH8LJXPWDMZ  B018GEHIW4      5.0\n",
      "2  A0003492LQH8LJXPWDMZ  B00VX7H7E6      5.0\n",
      "3  A0003492LQH8LJXPWDMZ  B012VIRMZE      5.0\n",
      "4  A0003492LQH8LJXPWDMZ  B00I95O5N6      3.0\n",
      "             reviewerID        asin  overall\n",
      "0  A0003492LQH8LJXPWDMZ  B01F88RU6U      2.0\n",
      "1  A0003492LQH8LJXPWDMZ  B01FY9XN00      3.0\n",
      "2  A0003492LQH8LJXPWDMZ  B004PBCFG2      1.0\n",
      "3  A0003492LQH8LJXPWDMZ  0373799713      5.0\n",
      "4   A0020356UF96ZV361ST  B01ENUVJ2A      4.0\n",
      "Processing epoch 0\n",
      "Processing epoch 1\n",
      "Processing epoch 2\n",
      "Processing epoch 3\n",
      "Processing epoch 4\n",
      "Processing epoch 5\n",
      "Processing epoch 6\n",
      "Processing epoch 7\n",
      "Processing epoch 8\n",
      "Processing epoch 9\n",
      "Processing epoch 10\n",
      "Processing epoch 11\n",
      "Processing epoch 12\n",
      "Processing epoch 13\n",
      "Processing epoch 14\n",
      "Processing epoch 15\n",
      "Processing epoch 16\n",
      "Processing epoch 17\n",
      "Processing epoch 18\n",
      "Processing epoch 19\n",
      "Processing epoch 20\n",
      "Processing epoch 21\n",
      "Processing epoch 22\n",
      "Processing epoch 23\n",
      "Processing epoch 24\n",
      "RMSE: 1.0390\n",
      "MAE:  0.7468\n"
     ]
    }
   ],
   "source": [
    "columns = [\"reviewerID\", \"asin\", \"overall\"]\n",
    "# Load the dataset into a Pandas Dataframe\n",
    "train_df = pd.read_csv(train_csv_path, usecols = columns, on_bad_lines = \"skip\")\n",
    "train_df = train_df[columns]\n",
    "print(train_df.head())\n",
    "# Load the dataset into a Pandas Dataframe\n",
    "validation_df = pd.read_csv(validation_csv_path, usecols = columns, on_bad_lines = \"skip\")\n",
    "validation_df = validation_df[columns]\n",
    "print(validation_df.head())\n",
    "\n",
    "# Instantiate a Reader object that expects data in the format (user, item, rating) and specify a rating scale\n",
    "reader = Reader(rating_scale = (1, 5))\n",
    "# Create a scikit-surprise dataset from Pandas dataframe, using the Reader object\n",
    "train_data = Dataset.load_from_df(train_df, reader)\n",
    "train_data = train_data.build_full_trainset()\n",
    "validation_data = validation_df.values\n",
    "\n",
    "predictions, rmse, mae = baseline_slope_one(train_data, validation_data)"
   ]
  },
  {
   "cell_type": "code",
   "execution_count": 37,
   "metadata": {},
   "outputs": [
    {
     "name": "stdout",
     "output_type": "stream",
     "text": [
      "Average RSME: 1.0390430026993112\n",
      "Average MAE: 0.7468298438667257\n"
     ]
    }
   ],
   "source": [
    "print(\"Average RSME: {}\\nAverage MAE: {}\".format( sum(rmse) / len(rmse), sum(mae) / len(mae) ))"
   ]
  },
  {
   "cell_type": "code",
   "execution_count": null,
   "metadata": {},
   "outputs": [],
   "source": []
  }
 ],
 "metadata": {
  "interpreter": {
   "hash": "db4fcdfb9f4c0c5b91e2bdb94890918c45ff238adf1a34cfd69e8ca3045c183f"
  },
  "kernelspec": {
   "display_name": "Python 3.9.6 ('env': venv)",
   "language": "python",
   "name": "python3"
  },
  "language_info": {
   "codemirror_mode": {
    "name": "ipython",
    "version": 3
   },
   "file_extension": ".py",
   "mimetype": "text/x-python",
   "name": "python",
   "nbconvert_exporter": "python",
   "pygments_lexer": "ipython3",
   "version": "3.9.6"
  },
  "orig_nbformat": 4
 },
 "nbformat": 4,
 "nbformat_minor": 2
}
