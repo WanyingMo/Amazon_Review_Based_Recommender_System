{
 "cells": [
  {
   "cell_type": "code",
   "execution_count": 1,
   "metadata": {},
   "outputs": [],
   "source": [
    "from random import randrange\n",
    "import csv\n",
    "import os"
   ]
  },
  {
   "cell_type": "code",
   "execution_count": 2,
   "metadata": {},
   "outputs": [],
   "source": [
    "base_dir = \"../Data/\"\n",
    "input_csv_path = os.path.join(base_dir, \"All_Amazon_Review_User_Item_Rating.csv\")\n",
    "output_csv_path = os.path.join(base_dir, \"sampled_data.csv\")\n",
    "total_records = 157260921\n",
    "required_records = 2500000\n",
    "\n",
    "random_records = set()"
   ]
  },
  {
   "cell_type": "code",
   "execution_count": 3,
   "metadata": {},
   "outputs": [],
   "source": [
    "with open(input_csv_path) as f:\n",
    "    while(len(random_records) < required_records):\n",
    "        # Generate random index\n",
    "        index = randrange(total_records)\n",
    "        # Seek to random index\n",
    "        f.seek(index)\n",
    "        # Discard partial line\n",
    "        f.readline()\n",
    "        # Read line from index\n",
    "        record = f.readline()\n",
    "        # Handle edge cases\n",
    "        if len(record) == 0:\n",
    "            f.seek(0)\n",
    "            record = f.readline()\n",
    "        # Convert record to tuple\n",
    "        record = tuple(record.strip().split(\",\"))\n",
    "        # Add record to set\n",
    "        random_records.add(record)"
   ]
  },
  {
   "cell_type": "code",
   "execution_count": null,
   "metadata": {},
   "outputs": [],
   "source": [
    "# Save randomly sampled records to a file\n",
    "fields = ['reviewerID', 'asin', 'overall']\n",
    "with open(output_csv_path, 'w', newline = '') as f:\n",
    "    write = csv.writer(f) \n",
    "    write.writerow(fields)\n",
    "    write.writerows(random_records)"
   ]
  }
 ],
 "metadata": {
  "interpreter": {
   "hash": "db4fcdfb9f4c0c5b91e2bdb94890918c45ff238adf1a34cfd69e8ca3045c183f"
  },
  "kernelspec": {
   "display_name": "Python 3.9.6 ('env': venv)",
   "language": "python",
   "name": "python3"
  },
  "language_info": {
   "codemirror_mode": {
    "name": "ipython",
    "version": 3
   },
   "file_extension": ".py",
   "mimetype": "text/x-python",
   "name": "python",
   "nbconvert_exporter": "python",
   "pygments_lexer": "ipython3",
   "version": "3.9.6"
  },
  "orig_nbformat": 4
 },
 "nbformat": 4,
 "nbformat_minor": 2
}
