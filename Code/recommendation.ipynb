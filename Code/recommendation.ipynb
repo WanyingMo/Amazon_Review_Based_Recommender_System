{
 "cells": [
  {
   "cell_type": "code",
   "execution_count": 1,
   "metadata": {},
   "outputs": [],
   "source": [
    "import pandas as pd\n",
    "import numpy as np\n",
    "from sklearn.preprocessing import MultiLabelBinarizer\n",
    "from sklearn.metrics import precision_recall_fscore_support, ndcg_score\n",
    "from statistics import mean"
   ]
  },
  {
   "cell_type": "code",
   "execution_count": 2,
   "metadata": {},
   "outputs": [],
   "source": [
    "ratings_csv = \"../Data/predicted_ratings.csv\"\n",
    "test_csv = \"../Data/validation_100k.csv\""
   ]
  },
  {
   "cell_type": "code",
   "execution_count": 3,
   "metadata": {},
   "outputs": [],
   "source": [
    "def get_basic_recommendations(df):\n",
    "    recommendation_dict = {}\n",
    "    unique_users = pd.unique(df.reviewerID)\n",
    "    for user_id in unique_users:\n",
    "        user_data = df[df.reviewerID == user_id].sort_values(by = \"overall\", ascending = False)\n",
    "        num_recommendations = min(len(user_data), 10)\n",
    "        recommendation_dict[user_id] = user_data.head(num_recommendations).asin.values\n",
    "    return recommendation_dict"
   ]
  },
  {
   "cell_type": "code",
   "execution_count": 4,
   "metadata": {},
   "outputs": [],
   "source": [
    "#ratings_df = pd.read_csv(ratings_csv, low_memory = False)\n",
    "ratings_df = pd.DataFrame(np.random.randint(1, 6, size=(1000, 3)), columns=[\"reviewerID\", \"asin\", \"overall\"])\n",
    "test_df = pd.DataFrame(np.random.randint(1, 6, size=(100, 3)), columns=[\"reviewerID\", \"asin\", \"overall\"])\n",
    "recommendations = get_basic_recommendations(ratings_df)\n"
   ]
  },
  {
   "cell_type": "code",
   "execution_count": 5,
   "metadata": {},
   "outputs": [],
   "source": [
    "test_vals = {}\n",
    "unique_users = pd.unique(test_df.reviewerID)\n",
    "for user_id in unique_users:\n",
    "        user_data = test_df[test_df.reviewerID == user_id]\n",
    "        test_vals[user_id] = user_data.asin.values\n"
   ]
  },
  {
   "cell_type": "code",
   "execution_count": 6,
   "metadata": {},
   "outputs": [],
   "source": [
    "multibinarizer = MultiLabelBinarizer()\n",
    "y_pred = multibinarizer.fit(recommendations.values()).transform(recommendations.values())\n",
    "y_true = multibinarizer.transform(test_vals.values())\n",
    "precision, recall, fscore, support = precision_recall_fscore_support(y_true, y_pred)\n",
    "ndcg = ndcg_score(y_true, y_pred)"
   ]
  },
  {
   "cell_type": "code",
   "execution_count": 7,
   "metadata": {},
   "outputs": [
    {
     "name": "stdout",
     "output_type": "stream",
     "text": [
      "Precision: 1.0\n",
      "Recall: 0.88\n",
      "F1 Score: 0.9333333333333333\n",
      "NDCG Score: 0.9999999999999998\n"
     ]
    }
   ],
   "source": [
    "mean_precision = mean(precision)\n",
    "mean_recall = mean(recall)\n",
    "mean_fscore = mean(fscore)\n",
    "print(\"Precision: {}\\nRecall: {}\\nF1 Score: {}\\nNDCG Score: {}\".format(mean_precision, mean_recall, mean_fscore, ndcg))"
   ]
  }
 ],
 "metadata": {
  "interpreter": {
   "hash": "db4fcdfb9f4c0c5b91e2bdb94890918c45ff238adf1a34cfd69e8ca3045c183f"
  },
  "kernelspec": {
   "display_name": "Python 3.9.6 ('env': venv)",
   "language": "python",
   "name": "python3"
  },
  "language_info": {
   "codemirror_mode": {
    "name": "ipython",
    "version": 3
   },
   "file_extension": ".py",
   "mimetype": "text/x-python",
   "name": "python",
   "nbconvert_exporter": "python",
   "pygments_lexer": "ipython3",
   "version": "3.9.6"
  },
  "orig_nbformat": 4
 },
 "nbformat": 4,
 "nbformat_minor": 2
}
