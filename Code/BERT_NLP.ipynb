{
  "nbformat": 4,
  "nbformat_minor": 0,
  "metadata": {
    "accelerator": "GPU",
    "colab": {
      "name": "Untitled14_(1) (15).ipynb",
      "provenance": [],
      "collapsed_sections": []
    },
    "kernelspec": {
      "display_name": "Python 3",
      "name": "python3"
    },
    "widgets": {
      "application/vnd.jupyter.widget-state+json": {
        "efdcacfc2c4c4ddfab55f4b44318ae46": {
          "model_module": "@jupyter-widgets/controls",
          "model_name": "HBoxModel",
          "state": {
            "_view_name": "HBoxView",
            "_dom_classes": [],
            "_model_name": "HBoxModel",
            "_view_module": "@jupyter-widgets/controls",
            "_model_module_version": "1.5.0",
            "_view_count": null,
            "_view_module_version": "1.5.0",
            "box_style": "",
            "layout": "IPY_MODEL_0693145edfdd49609d518e42ed556154",
            "_model_module": "@jupyter-widgets/controls",
            "children": [
              "IPY_MODEL_13ac67a3bb6a4340945b08e0eb33846c",
              "IPY_MODEL_1d0d0e2012d4450ba290a1685a5ab934"
            ]
          }
        },
        "0693145edfdd49609d518e42ed556154": {
          "model_module": "@jupyter-widgets/base",
          "model_name": "LayoutModel",
          "state": {
            "_view_name": "LayoutView",
            "grid_template_rows": null,
            "right": null,
            "justify_content": null,
            "_view_module": "@jupyter-widgets/base",
            "overflow": null,
            "_model_module_version": "1.2.0",
            "_view_count": null,
            "flex_flow": null,
            "width": null,
            "min_width": null,
            "border": null,
            "align_items": null,
            "bottom": null,
            "_model_module": "@jupyter-widgets/base",
            "top": null,
            "grid_column": null,
            "overflow_y": null,
            "overflow_x": null,
            "grid_auto_flow": null,
            "grid_area": null,
            "grid_template_columns": null,
            "flex": null,
            "_model_name": "LayoutModel",
            "justify_items": null,
            "grid_row": null,
            "max_height": null,
            "align_content": null,
            "visibility": null,
            "align_self": null,
            "height": null,
            "min_height": null,
            "padding": null,
            "grid_auto_rows": null,
            "grid_gap": null,
            "max_width": null,
            "order": null,
            "_view_module_version": "1.2.0",
            "grid_template_areas": null,
            "object_position": null,
            "object_fit": null,
            "grid_auto_columns": null,
            "margin": null,
            "display": null,
            "left": null
          }
        },
        "13ac67a3bb6a4340945b08e0eb33846c": {
          "model_module": "@jupyter-widgets/controls",
          "model_name": "FloatProgressModel",
          "state": {
            "_view_name": "ProgressView",
            "style": "IPY_MODEL_ac6afcbb232d4d8f895a1ae6c2528504",
            "_dom_classes": [],
            "description": "Downloading: 100%",
            "_model_name": "FloatProgressModel",
            "bar_style": "success",
            "max": 442,
            "_view_module": "@jupyter-widgets/controls",
            "_model_module_version": "1.5.0",
            "value": 442,
            "_view_count": null,
            "_view_module_version": "1.5.0",
            "orientation": "horizontal",
            "min": 0,
            "description_tooltip": null,
            "_model_module": "@jupyter-widgets/controls",
            "layout": "IPY_MODEL_b4ca0e2e9d0945ffa447192bba6e098b"
          }
        },
        "1d0d0e2012d4450ba290a1685a5ab934": {
          "model_module": "@jupyter-widgets/controls",
          "model_name": "HTMLModel",
          "state": {
            "_view_name": "HTMLView",
            "style": "IPY_MODEL_850cea0521544062a0f4c44d3bbb7448",
            "_dom_classes": [],
            "description": "",
            "_model_name": "HTMLModel",
            "placeholder": "​",
            "_view_module": "@jupyter-widgets/controls",
            "_model_module_version": "1.5.0",
            "value": " 442/442 [00:08&lt;00:00, 54.3B/s]",
            "_view_count": null,
            "_view_module_version": "1.5.0",
            "description_tooltip": null,
            "_model_module": "@jupyter-widgets/controls",
            "layout": "IPY_MODEL_11d10ed910a6486f90bad5cc3610b143"
          }
        },
        "ac6afcbb232d4d8f895a1ae6c2528504": {
          "model_module": "@jupyter-widgets/controls",
          "model_name": "ProgressStyleModel",
          "state": {
            "_view_name": "StyleView",
            "_model_name": "ProgressStyleModel",
            "description_width": "initial",
            "_view_module": "@jupyter-widgets/base",
            "_model_module_version": "1.5.0",
            "_view_count": null,
            "_view_module_version": "1.2.0",
            "bar_color": null,
            "_model_module": "@jupyter-widgets/controls"
          }
        },
        "b4ca0e2e9d0945ffa447192bba6e098b": {
          "model_module": "@jupyter-widgets/base",
          "model_name": "LayoutModel",
          "state": {
            "_view_name": "LayoutView",
            "grid_template_rows": null,
            "right": null,
            "justify_content": null,
            "_view_module": "@jupyter-widgets/base",
            "overflow": null,
            "_model_module_version": "1.2.0",
            "_view_count": null,
            "flex_flow": null,
            "width": null,
            "min_width": null,
            "border": null,
            "align_items": null,
            "bottom": null,
            "_model_module": "@jupyter-widgets/base",
            "top": null,
            "grid_column": null,
            "overflow_y": null,
            "overflow_x": null,
            "grid_auto_flow": null,
            "grid_area": null,
            "grid_template_columns": null,
            "flex": null,
            "_model_name": "LayoutModel",
            "justify_items": null,
            "grid_row": null,
            "max_height": null,
            "align_content": null,
            "visibility": null,
            "align_self": null,
            "height": null,
            "min_height": null,
            "padding": null,
            "grid_auto_rows": null,
            "grid_gap": null,
            "max_width": null,
            "order": null,
            "_view_module_version": "1.2.0",
            "grid_template_areas": null,
            "object_position": null,
            "object_fit": null,
            "grid_auto_columns": null,
            "margin": null,
            "display": null,
            "left": null
          }
        },
        "850cea0521544062a0f4c44d3bbb7448": {
          "model_module": "@jupyter-widgets/controls",
          "model_name": "DescriptionStyleModel",
          "state": {
            "_view_name": "StyleView",
            "_model_name": "DescriptionStyleModel",
            "description_width": "",
            "_view_module": "@jupyter-widgets/base",
            "_model_module_version": "1.5.0",
            "_view_count": null,
            "_view_module_version": "1.2.0",
            "_model_module": "@jupyter-widgets/controls"
          }
        },
        "11d10ed910a6486f90bad5cc3610b143": {
          "model_module": "@jupyter-widgets/base",
          "model_name": "LayoutModel",
          "state": {
            "_view_name": "LayoutView",
            "grid_template_rows": null,
            "right": null,
            "justify_content": null,
            "_view_module": "@jupyter-widgets/base",
            "overflow": null,
            "_model_module_version": "1.2.0",
            "_view_count": null,
            "flex_flow": null,
            "width": null,
            "min_width": null,
            "border": null,
            "align_items": null,
            "bottom": null,
            "_model_module": "@jupyter-widgets/base",
            "top": null,
            "grid_column": null,
            "overflow_y": null,
            "overflow_x": null,
            "grid_auto_flow": null,
            "grid_area": null,
            "grid_template_columns": null,
            "flex": null,
            "_model_name": "LayoutModel",
            "justify_items": null,
            "grid_row": null,
            "max_height": null,
            "align_content": null,
            "visibility": null,
            "align_self": null,
            "height": null,
            "min_height": null,
            "padding": null,
            "grid_auto_rows": null,
            "grid_gap": null,
            "max_width": null,
            "order": null,
            "_view_module_version": "1.2.0",
            "grid_template_areas": null,
            "object_position": null,
            "object_fit": null,
            "grid_auto_columns": null,
            "margin": null,
            "display": null,
            "left": null
          }
        },
        "b11db91b91864a7ea1402d0969233b7c": {
          "model_module": "@jupyter-widgets/controls",
          "model_name": "HBoxModel",
          "state": {
            "_view_name": "HBoxView",
            "_dom_classes": [],
            "_model_name": "HBoxModel",
            "_view_module": "@jupyter-widgets/controls",
            "_model_module_version": "1.5.0",
            "_view_count": null,
            "_view_module_version": "1.5.0",
            "box_style": "",
            "layout": "IPY_MODEL_a45e835f80c0425e8c596c5d229417f3",
            "_model_module": "@jupyter-widgets/controls",
            "children": [
              "IPY_MODEL_569164b15dab40249892b4c315872077",
              "IPY_MODEL_390e5dbe63984693b046ee18c37f5a5f"
            ]
          }
        },
        "a45e835f80c0425e8c596c5d229417f3": {
          "model_module": "@jupyter-widgets/base",
          "model_name": "LayoutModel",
          "state": {
            "_view_name": "LayoutView",
            "grid_template_rows": null,
            "right": null,
            "justify_content": null,
            "_view_module": "@jupyter-widgets/base",
            "overflow": null,
            "_model_module_version": "1.2.0",
            "_view_count": null,
            "flex_flow": null,
            "width": null,
            "min_width": null,
            "border": null,
            "align_items": null,
            "bottom": null,
            "_model_module": "@jupyter-widgets/base",
            "top": null,
            "grid_column": null,
            "overflow_y": null,
            "overflow_x": null,
            "grid_auto_flow": null,
            "grid_area": null,
            "grid_template_columns": null,
            "flex": null,
            "_model_name": "LayoutModel",
            "justify_items": null,
            "grid_row": null,
            "max_height": null,
            "align_content": null,
            "visibility": null,
            "align_self": null,
            "height": null,
            "min_height": null,
            "padding": null,
            "grid_auto_rows": null,
            "grid_gap": null,
            "max_width": null,
            "order": null,
            "_view_module_version": "1.2.0",
            "grid_template_areas": null,
            "object_position": null,
            "object_fit": null,
            "grid_auto_columns": null,
            "margin": null,
            "display": null,
            "left": null
          }
        },
        "569164b15dab40249892b4c315872077": {
          "model_module": "@jupyter-widgets/controls",
          "model_name": "FloatProgressModel",
          "state": {
            "_view_name": "ProgressView",
            "style": "IPY_MODEL_742329dfc077474491e0ba4bfbcc7160",
            "_dom_classes": [],
            "description": "Downloading: 100%",
            "_model_name": "FloatProgressModel",
            "bar_style": "success",
            "max": 267967963,
            "_view_module": "@jupyter-widgets/controls",
            "_model_module_version": "1.5.0",
            "value": 267967963,
            "_view_count": null,
            "_view_module_version": "1.5.0",
            "orientation": "horizontal",
            "min": 0,
            "description_tooltip": null,
            "_model_module": "@jupyter-widgets/controls",
            "layout": "IPY_MODEL_01e3337d8e3a47e0ba15febf84e85ad1"
          }
        },
        "390e5dbe63984693b046ee18c37f5a5f": {
          "model_module": "@jupyter-widgets/controls",
          "model_name": "HTMLModel",
          "state": {
            "_view_name": "HTMLView",
            "style": "IPY_MODEL_016189407e884c0c8f2df75da74e7699",
            "_dom_classes": [],
            "description": "",
            "_model_name": "HTMLModel",
            "placeholder": "​",
            "_view_module": "@jupyter-widgets/controls",
            "_model_module_version": "1.5.0",
            "value": " 268M/268M [00:06&lt;00:00, 43.4MB/s]",
            "_view_count": null,
            "_view_module_version": "1.5.0",
            "description_tooltip": null,
            "_model_module": "@jupyter-widgets/controls",
            "layout": "IPY_MODEL_f1badf122b3642089cec96eb3822e20a"
          }
        },
        "742329dfc077474491e0ba4bfbcc7160": {
          "model_module": "@jupyter-widgets/controls",
          "model_name": "ProgressStyleModel",
          "state": {
            "_view_name": "StyleView",
            "_model_name": "ProgressStyleModel",
            "description_width": "initial",
            "_view_module": "@jupyter-widgets/base",
            "_model_module_version": "1.5.0",
            "_view_count": null,
            "_view_module_version": "1.2.0",
            "bar_color": null,
            "_model_module": "@jupyter-widgets/controls"
          }
        },
        "01e3337d8e3a47e0ba15febf84e85ad1": {
          "model_module": "@jupyter-widgets/base",
          "model_name": "LayoutModel",
          "state": {
            "_view_name": "LayoutView",
            "grid_template_rows": null,
            "right": null,
            "justify_content": null,
            "_view_module": "@jupyter-widgets/base",
            "overflow": null,
            "_model_module_version": "1.2.0",
            "_view_count": null,
            "flex_flow": null,
            "width": null,
            "min_width": null,
            "border": null,
            "align_items": null,
            "bottom": null,
            "_model_module": "@jupyter-widgets/base",
            "top": null,
            "grid_column": null,
            "overflow_y": null,
            "overflow_x": null,
            "grid_auto_flow": null,
            "grid_area": null,
            "grid_template_columns": null,
            "flex": null,
            "_model_name": "LayoutModel",
            "justify_items": null,
            "grid_row": null,
            "max_height": null,
            "align_content": null,
            "visibility": null,
            "align_self": null,
            "height": null,
            "min_height": null,
            "padding": null,
            "grid_auto_rows": null,
            "grid_gap": null,
            "max_width": null,
            "order": null,
            "_view_module_version": "1.2.0",
            "grid_template_areas": null,
            "object_position": null,
            "object_fit": null,
            "grid_auto_columns": null,
            "margin": null,
            "display": null,
            "left": null
          }
        },
        "016189407e884c0c8f2df75da74e7699": {
          "model_module": "@jupyter-widgets/controls",
          "model_name": "DescriptionStyleModel",
          "state": {
            "_view_name": "StyleView",
            "_model_name": "DescriptionStyleModel",
            "description_width": "",
            "_view_module": "@jupyter-widgets/base",
            "_model_module_version": "1.5.0",
            "_view_count": null,
            "_view_module_version": "1.2.0",
            "_model_module": "@jupyter-widgets/controls"
          }
        },
        "f1badf122b3642089cec96eb3822e20a": {
          "model_module": "@jupyter-widgets/base",
          "model_name": "LayoutModel",
          "state": {
            "_view_name": "LayoutView",
            "grid_template_rows": null,
            "right": null,
            "justify_content": null,
            "_view_module": "@jupyter-widgets/base",
            "overflow": null,
            "_model_module_version": "1.2.0",
            "_view_count": null,
            "flex_flow": null,
            "width": null,
            "min_width": null,
            "border": null,
            "align_items": null,
            "bottom": null,
            "_model_module": "@jupyter-widgets/base",
            "top": null,
            "grid_column": null,
            "overflow_y": null,
            "overflow_x": null,
            "grid_auto_flow": null,
            "grid_area": null,
            "grid_template_columns": null,
            "flex": null,
            "_model_name": "LayoutModel",
            "justify_items": null,
            "grid_row": null,
            "max_height": null,
            "align_content": null,
            "visibility": null,
            "align_self": null,
            "height": null,
            "min_height": null,
            "padding": null,
            "grid_auto_rows": null,
            "grid_gap": null,
            "max_width": null,
            "order": null,
            "_view_module_version": "1.2.0",
            "grid_template_areas": null,
            "object_position": null,
            "object_fit": null,
            "grid_auto_columns": null,
            "margin": null,
            "display": null,
            "left": null
          }
        },
        "045a3462970e424d8f780b69af9f4ce3": {
          "model_module": "@jupyter-widgets/controls",
          "model_name": "HBoxModel",
          "state": {
            "_view_name": "HBoxView",
            "_dom_classes": [],
            "_model_name": "HBoxModel",
            "_view_module": "@jupyter-widgets/controls",
            "_model_module_version": "1.5.0",
            "_view_count": null,
            "_view_module_version": "1.5.0",
            "box_style": "",
            "layout": "IPY_MODEL_23f0cfd614684c51982517e6a8581fee",
            "_model_module": "@jupyter-widgets/controls",
            "children": [
              "IPY_MODEL_44ed41463664413e84488e90d82f0d8a",
              "IPY_MODEL_d82dc8cef9e04e39adbe47c3fde55bc9"
            ]
          }
        },
        "23f0cfd614684c51982517e6a8581fee": {
          "model_module": "@jupyter-widgets/base",
          "model_name": "LayoutModel",
          "state": {
            "_view_name": "LayoutView",
            "grid_template_rows": null,
            "right": null,
            "justify_content": null,
            "_view_module": "@jupyter-widgets/base",
            "overflow": null,
            "_model_module_version": "1.2.0",
            "_view_count": null,
            "flex_flow": null,
            "width": null,
            "min_width": null,
            "border": null,
            "align_items": null,
            "bottom": null,
            "_model_module": "@jupyter-widgets/base",
            "top": null,
            "grid_column": null,
            "overflow_y": null,
            "overflow_x": null,
            "grid_auto_flow": null,
            "grid_area": null,
            "grid_template_columns": null,
            "flex": null,
            "_model_name": "LayoutModel",
            "justify_items": null,
            "grid_row": null,
            "max_height": null,
            "align_content": null,
            "visibility": null,
            "align_self": null,
            "height": null,
            "min_height": null,
            "padding": null,
            "grid_auto_rows": null,
            "grid_gap": null,
            "max_width": null,
            "order": null,
            "_view_module_version": "1.2.0",
            "grid_template_areas": null,
            "object_position": null,
            "object_fit": null,
            "grid_auto_columns": null,
            "margin": null,
            "display": null,
            "left": null
          }
        },
        "44ed41463664413e84488e90d82f0d8a": {
          "model_module": "@jupyter-widgets/controls",
          "model_name": "FloatProgressModel",
          "state": {
            "_view_name": "ProgressView",
            "style": "IPY_MODEL_3119c6abe3504dafb16dd347e6d1c654",
            "_dom_classes": [],
            "description": "Downloading: 100%",
            "_model_name": "FloatProgressModel",
            "bar_style": "success",
            "max": 231508,
            "_view_module": "@jupyter-widgets/controls",
            "_model_module_version": "1.5.0",
            "value": 231508,
            "_view_count": null,
            "_view_module_version": "1.5.0",
            "orientation": "horizontal",
            "min": 0,
            "description_tooltip": null,
            "_model_module": "@jupyter-widgets/controls",
            "layout": "IPY_MODEL_92609cff59414d189aa1a1267594ffcc"
          }
        },
        "d82dc8cef9e04e39adbe47c3fde55bc9": {
          "model_module": "@jupyter-widgets/controls",
          "model_name": "HTMLModel",
          "state": {
            "_view_name": "HTMLView",
            "style": "IPY_MODEL_edf9e3d392714ad0b4ea5f0da0b7d1f0",
            "_dom_classes": [],
            "description": "",
            "_model_name": "HTMLModel",
            "placeholder": "​",
            "_view_module": "@jupyter-widgets/controls",
            "_model_module_version": "1.5.0",
            "value": " 232k/232k [00:00&lt;00:00, 796kB/s]",
            "_view_count": null,
            "_view_module_version": "1.5.0",
            "description_tooltip": null,
            "_model_module": "@jupyter-widgets/controls",
            "layout": "IPY_MODEL_eb2d5463d37f4c218b4ac322fe36c431"
          }
        },
        "3119c6abe3504dafb16dd347e6d1c654": {
          "model_module": "@jupyter-widgets/controls",
          "model_name": "ProgressStyleModel",
          "state": {
            "_view_name": "StyleView",
            "_model_name": "ProgressStyleModel",
            "description_width": "initial",
            "_view_module": "@jupyter-widgets/base",
            "_model_module_version": "1.5.0",
            "_view_count": null,
            "_view_module_version": "1.2.0",
            "bar_color": null,
            "_model_module": "@jupyter-widgets/controls"
          }
        },
        "92609cff59414d189aa1a1267594ffcc": {
          "model_module": "@jupyter-widgets/base",
          "model_name": "LayoutModel",
          "state": {
            "_view_name": "LayoutView",
            "grid_template_rows": null,
            "right": null,
            "justify_content": null,
            "_view_module": "@jupyter-widgets/base",
            "overflow": null,
            "_model_module_version": "1.2.0",
            "_view_count": null,
            "flex_flow": null,
            "width": null,
            "min_width": null,
            "border": null,
            "align_items": null,
            "bottom": null,
            "_model_module": "@jupyter-widgets/base",
            "top": null,
            "grid_column": null,
            "overflow_y": null,
            "overflow_x": null,
            "grid_auto_flow": null,
            "grid_area": null,
            "grid_template_columns": null,
            "flex": null,
            "_model_name": "LayoutModel",
            "justify_items": null,
            "grid_row": null,
            "max_height": null,
            "align_content": null,
            "visibility": null,
            "align_self": null,
            "height": null,
            "min_height": null,
            "padding": null,
            "grid_auto_rows": null,
            "grid_gap": null,
            "max_width": null,
            "order": null,
            "_view_module_version": "1.2.0",
            "grid_template_areas": null,
            "object_position": null,
            "object_fit": null,
            "grid_auto_columns": null,
            "margin": null,
            "display": null,
            "left": null
          }
        },
        "edf9e3d392714ad0b4ea5f0da0b7d1f0": {
          "model_module": "@jupyter-widgets/controls",
          "model_name": "DescriptionStyleModel",
          "state": {
            "_view_name": "StyleView",
            "_model_name": "DescriptionStyleModel",
            "description_width": "",
            "_view_module": "@jupyter-widgets/base",
            "_model_module_version": "1.5.0",
            "_view_count": null,
            "_view_module_version": "1.2.0",
            "_model_module": "@jupyter-widgets/controls"
          }
        },
        "eb2d5463d37f4c218b4ac322fe36c431": {
          "model_module": "@jupyter-widgets/base",
          "model_name": "LayoutModel",
          "state": {
            "_view_name": "LayoutView",
            "grid_template_rows": null,
            "right": null,
            "justify_content": null,
            "_view_module": "@jupyter-widgets/base",
            "overflow": null,
            "_model_module_version": "1.2.0",
            "_view_count": null,
            "flex_flow": null,
            "width": null,
            "min_width": null,
            "border": null,
            "align_items": null,
            "bottom": null,
            "_model_module": "@jupyter-widgets/base",
            "top": null,
            "grid_column": null,
            "overflow_y": null,
            "overflow_x": null,
            "grid_auto_flow": null,
            "grid_area": null,
            "grid_template_columns": null,
            "flex": null,
            "_model_name": "LayoutModel",
            "justify_items": null,
            "grid_row": null,
            "max_height": null,
            "align_content": null,
            "visibility": null,
            "align_self": null,
            "height": null,
            "min_height": null,
            "padding": null,
            "grid_auto_rows": null,
            "grid_gap": null,
            "max_width": null,
            "order": null,
            "_view_module_version": "1.2.0",
            "grid_template_areas": null,
            "object_position": null,
            "object_fit": null,
            "grid_auto_columns": null,
            "margin": null,
            "display": null,
            "left": null
          }
        },
        "504edd4810964a01a1a27bf27729fded": {
          "model_module": "@jupyter-widgets/controls",
          "model_name": "HBoxModel",
          "state": {
            "_view_name": "HBoxView",
            "_dom_classes": [],
            "_model_name": "HBoxModel",
            "_view_module": "@jupyter-widgets/controls",
            "_model_module_version": "1.5.0",
            "_view_count": null,
            "_view_module_version": "1.5.0",
            "box_style": "",
            "layout": "IPY_MODEL_9ad5cf61bd4641a48ac41c6fa3ddf782",
            "_model_module": "@jupyter-widgets/controls",
            "children": [
              "IPY_MODEL_240565aad1374c9aa61d8d3957ad2716",
              "IPY_MODEL_b4ad46eb92de4c6284ec6ff1c84608d4"
            ]
          }
        },
        "9ad5cf61bd4641a48ac41c6fa3ddf782": {
          "model_module": "@jupyter-widgets/base",
          "model_name": "LayoutModel",
          "state": {
            "_view_name": "LayoutView",
            "grid_template_rows": null,
            "right": null,
            "justify_content": null,
            "_view_module": "@jupyter-widgets/base",
            "overflow": null,
            "_model_module_version": "1.2.0",
            "_view_count": null,
            "flex_flow": null,
            "width": null,
            "min_width": null,
            "border": null,
            "align_items": null,
            "bottom": null,
            "_model_module": "@jupyter-widgets/base",
            "top": null,
            "grid_column": null,
            "overflow_y": null,
            "overflow_x": null,
            "grid_auto_flow": null,
            "grid_area": null,
            "grid_template_columns": null,
            "flex": null,
            "_model_name": "LayoutModel",
            "justify_items": null,
            "grid_row": null,
            "max_height": null,
            "align_content": null,
            "visibility": null,
            "align_self": null,
            "height": null,
            "min_height": null,
            "padding": null,
            "grid_auto_rows": null,
            "grid_gap": null,
            "max_width": null,
            "order": null,
            "_view_module_version": "1.2.0",
            "grid_template_areas": null,
            "object_position": null,
            "object_fit": null,
            "grid_auto_columns": null,
            "margin": null,
            "display": null,
            "left": null
          }
        },
        "240565aad1374c9aa61d8d3957ad2716": {
          "model_module": "@jupyter-widgets/controls",
          "model_name": "FloatProgressModel",
          "state": {
            "_view_name": "ProgressView",
            "style": "IPY_MODEL_075eba760083462ba6cf143d0c40f877",
            "_dom_classes": [],
            "description": "",
            "_model_name": "FloatProgressModel",
            "bar_style": "success",
            "max": 12495,
            "_view_module": "@jupyter-widgets/controls",
            "_model_module_version": "1.5.0",
            "value": 12495,
            "_view_count": null,
            "_view_module_version": "1.5.0",
            "orientation": "horizontal",
            "min": 0,
            "description_tooltip": null,
            "_model_module": "@jupyter-widgets/controls",
            "layout": "IPY_MODEL_1a4ab9edfc4d47c0aa5609314b2cdbdf"
          }
        },
        "b4ad46eb92de4c6284ec6ff1c84608d4": {
          "model_module": "@jupyter-widgets/controls",
          "model_name": "HTMLModel",
          "state": {
            "_view_name": "HTMLView",
            "style": "IPY_MODEL_48c0390757bf458fa99ce5ba3591d75f",
            "_dom_classes": [],
            "description": "",
            "_model_name": "HTMLModel",
            "placeholder": "​",
            "_view_module": "@jupyter-widgets/controls",
            "_model_module_version": "1.5.0",
            "value": " 12496/? [2:12:09&lt;00:00,  1.58it/s]",
            "_view_count": null,
            "_view_module_version": "1.5.0",
            "description_tooltip": null,
            "_model_module": "@jupyter-widgets/controls",
            "layout": "IPY_MODEL_4f54626c755c49e3ab4a443fd3288f90"
          }
        },
        "075eba760083462ba6cf143d0c40f877": {
          "model_module": "@jupyter-widgets/controls",
          "model_name": "ProgressStyleModel",
          "state": {
            "_view_name": "StyleView",
            "_model_name": "ProgressStyleModel",
            "description_width": "initial",
            "_view_module": "@jupyter-widgets/base",
            "_model_module_version": "1.5.0",
            "_view_count": null,
            "_view_module_version": "1.2.0",
            "bar_color": null,
            "_model_module": "@jupyter-widgets/controls"
          }
        },
        "1a4ab9edfc4d47c0aa5609314b2cdbdf": {
          "model_module": "@jupyter-widgets/base",
          "model_name": "LayoutModel",
          "state": {
            "_view_name": "LayoutView",
            "grid_template_rows": null,
            "right": null,
            "justify_content": null,
            "_view_module": "@jupyter-widgets/base",
            "overflow": null,
            "_model_module_version": "1.2.0",
            "_view_count": null,
            "flex_flow": null,
            "width": null,
            "min_width": null,
            "border": null,
            "align_items": null,
            "bottom": null,
            "_model_module": "@jupyter-widgets/base",
            "top": null,
            "grid_column": null,
            "overflow_y": null,
            "overflow_x": null,
            "grid_auto_flow": null,
            "grid_area": null,
            "grid_template_columns": null,
            "flex": null,
            "_model_name": "LayoutModel",
            "justify_items": null,
            "grid_row": null,
            "max_height": null,
            "align_content": null,
            "visibility": null,
            "align_self": null,
            "height": null,
            "min_height": null,
            "padding": null,
            "grid_auto_rows": null,
            "grid_gap": null,
            "max_width": null,
            "order": null,
            "_view_module_version": "1.2.0",
            "grid_template_areas": null,
            "object_position": null,
            "object_fit": null,
            "grid_auto_columns": null,
            "margin": null,
            "display": null,
            "left": null
          }
        },
        "48c0390757bf458fa99ce5ba3591d75f": {
          "model_module": "@jupyter-widgets/controls",
          "model_name": "DescriptionStyleModel",
          "state": {
            "_view_name": "StyleView",
            "_model_name": "DescriptionStyleModel",
            "description_width": "",
            "_view_module": "@jupyter-widgets/base",
            "_model_module_version": "1.5.0",
            "_view_count": null,
            "_view_module_version": "1.2.0",
            "_model_module": "@jupyter-widgets/controls"
          }
        },
        "4f54626c755c49e3ab4a443fd3288f90": {
          "model_module": "@jupyter-widgets/base",
          "model_name": "LayoutModel",
          "state": {
            "_view_name": "LayoutView",
            "grid_template_rows": null,
            "right": null,
            "justify_content": null,
            "_view_module": "@jupyter-widgets/base",
            "overflow": null,
            "_model_module_version": "1.2.0",
            "_view_count": null,
            "flex_flow": null,
            "width": null,
            "min_width": null,
            "border": null,
            "align_items": null,
            "bottom": null,
            "_model_module": "@jupyter-widgets/base",
            "top": null,
            "grid_column": null,
            "overflow_y": null,
            "overflow_x": null,
            "grid_auto_flow": null,
            "grid_area": null,
            "grid_template_columns": null,
            "flex": null,
            "_model_name": "LayoutModel",
            "justify_items": null,
            "grid_row": null,
            "max_height": null,
            "align_content": null,
            "visibility": null,
            "align_self": null,
            "height": null,
            "min_height": null,
            "padding": null,
            "grid_auto_rows": null,
            "grid_gap": null,
            "max_width": null,
            "order": null,
            "_view_module_version": "1.2.0",
            "grid_template_areas": null,
            "object_position": null,
            "object_fit": null,
            "grid_auto_columns": null,
            "margin": null,
            "display": null,
            "left": null
          }
        },
        "2fe817e9ff7a433581ce250a5f3824dc": {
          "model_module": "@jupyter-widgets/controls",
          "model_name": "HBoxModel",
          "state": {
            "_view_name": "HBoxView",
            "_dom_classes": [],
            "_model_name": "HBoxModel",
            "_view_module": "@jupyter-widgets/controls",
            "_model_module_version": "1.5.0",
            "_view_count": null,
            "_view_module_version": "1.5.0",
            "box_style": "",
            "layout": "IPY_MODEL_6fad1fe6a40b48b4a0b6742f63680aa9",
            "_model_module": "@jupyter-widgets/controls",
            "children": [
              "IPY_MODEL_d9e723d9af5749d9a20ee1a26c499beb",
              "IPY_MODEL_1a7f6c681ce54b829cfe6d944f90fdac"
            ]
          }
        },
        "6fad1fe6a40b48b4a0b6742f63680aa9": {
          "model_module": "@jupyter-widgets/base",
          "model_name": "LayoutModel",
          "state": {
            "_view_name": "LayoutView",
            "grid_template_rows": null,
            "right": null,
            "justify_content": null,
            "_view_module": "@jupyter-widgets/base",
            "overflow": null,
            "_model_module_version": "1.2.0",
            "_view_count": null,
            "flex_flow": null,
            "width": null,
            "min_width": null,
            "border": null,
            "align_items": null,
            "bottom": null,
            "_model_module": "@jupyter-widgets/base",
            "top": null,
            "grid_column": null,
            "overflow_y": null,
            "overflow_x": null,
            "grid_auto_flow": null,
            "grid_area": null,
            "grid_template_columns": null,
            "flex": null,
            "_model_name": "LayoutModel",
            "justify_items": null,
            "grid_row": null,
            "max_height": null,
            "align_content": null,
            "visibility": null,
            "align_self": null,
            "height": null,
            "min_height": null,
            "padding": null,
            "grid_auto_rows": null,
            "grid_gap": null,
            "max_width": null,
            "order": null,
            "_view_module_version": "1.2.0",
            "grid_template_areas": null,
            "object_position": null,
            "object_fit": null,
            "grid_auto_columns": null,
            "margin": null,
            "display": null,
            "left": null
          }
        },
        "d9e723d9af5749d9a20ee1a26c499beb": {
          "model_module": "@jupyter-widgets/controls",
          "model_name": "FloatProgressModel",
          "state": {
            "_view_name": "ProgressView",
            "style": "IPY_MODEL_8cdfe92935fe46249d1749273d12e64e",
            "_dom_classes": [],
            "description": "",
            "_model_name": "FloatProgressModel",
            "bar_style": "success",
            "max": 1561,
            "_view_module": "@jupyter-widgets/controls",
            "_model_module_version": "1.5.0",
            "value": 1561,
            "_view_count": null,
            "_view_module_version": "1.5.0",
            "orientation": "horizontal",
            "min": 0,
            "description_tooltip": null,
            "_model_module": "@jupyter-widgets/controls",
            "layout": "IPY_MODEL_80dcb8a9874f495a8d305cc61223efa3"
          }
        },
        "1a7f6c681ce54b829cfe6d944f90fdac": {
          "model_module": "@jupyter-widgets/controls",
          "model_name": "HTMLModel",
          "state": {
            "_view_name": "HTMLView",
            "style": "IPY_MODEL_4a71d9781e944c009a1c111c0ea63913",
            "_dom_classes": [],
            "description": "",
            "_model_name": "HTMLModel",
            "placeholder": "​",
            "_view_module": "@jupyter-widgets/controls",
            "_model_module_version": "1.5.0",
            "value": " 1562/? [1:30:16&lt;00:00,  3.47s/it]",
            "_view_count": null,
            "_view_module_version": "1.5.0",
            "description_tooltip": null,
            "_model_module": "@jupyter-widgets/controls",
            "layout": "IPY_MODEL_19a25f4a71cc44aea8166ded3a721abf"
          }
        },
        "8cdfe92935fe46249d1749273d12e64e": {
          "model_module": "@jupyter-widgets/controls",
          "model_name": "ProgressStyleModel",
          "state": {
            "_view_name": "StyleView",
            "_model_name": "ProgressStyleModel",
            "description_width": "initial",
            "_view_module": "@jupyter-widgets/base",
            "_model_module_version": "1.5.0",
            "_view_count": null,
            "_view_module_version": "1.2.0",
            "bar_color": null,
            "_model_module": "@jupyter-widgets/controls"
          }
        },
        "80dcb8a9874f495a8d305cc61223efa3": {
          "model_module": "@jupyter-widgets/base",
          "model_name": "LayoutModel",
          "state": {
            "_view_name": "LayoutView",
            "grid_template_rows": null,
            "right": null,
            "justify_content": null,
            "_view_module": "@jupyter-widgets/base",
            "overflow": null,
            "_model_module_version": "1.2.0",
            "_view_count": null,
            "flex_flow": null,
            "width": null,
            "min_width": null,
            "border": null,
            "align_items": null,
            "bottom": null,
            "_model_module": "@jupyter-widgets/base",
            "top": null,
            "grid_column": null,
            "overflow_y": null,
            "overflow_x": null,
            "grid_auto_flow": null,
            "grid_area": null,
            "grid_template_columns": null,
            "flex": null,
            "_model_name": "LayoutModel",
            "justify_items": null,
            "grid_row": null,
            "max_height": null,
            "align_content": null,
            "visibility": null,
            "align_self": null,
            "height": null,
            "min_height": null,
            "padding": null,
            "grid_auto_rows": null,
            "grid_gap": null,
            "max_width": null,
            "order": null,
            "_view_module_version": "1.2.0",
            "grid_template_areas": null,
            "object_position": null,
            "object_fit": null,
            "grid_auto_columns": null,
            "margin": null,
            "display": null,
            "left": null
          }
        },
        "4a71d9781e944c009a1c111c0ea63913": {
          "model_module": "@jupyter-widgets/controls",
          "model_name": "DescriptionStyleModel",
          "state": {
            "_view_name": "StyleView",
            "_model_name": "DescriptionStyleModel",
            "description_width": "",
            "_view_module": "@jupyter-widgets/base",
            "_model_module_version": "1.5.0",
            "_view_count": null,
            "_view_module_version": "1.2.0",
            "_model_module": "@jupyter-widgets/controls"
          }
        },
        "19a25f4a71cc44aea8166ded3a721abf": {
          "model_module": "@jupyter-widgets/base",
          "model_name": "LayoutModel",
          "state": {
            "_view_name": "LayoutView",
            "grid_template_rows": null,
            "right": null,
            "justify_content": null,
            "_view_module": "@jupyter-widgets/base",
            "overflow": null,
            "_model_module_version": "1.2.0",
            "_view_count": null,
            "flex_flow": null,
            "width": null,
            "min_width": null,
            "border": null,
            "align_items": null,
            "bottom": null,
            "_model_module": "@jupyter-widgets/base",
            "top": null,
            "grid_column": null,
            "overflow_y": null,
            "overflow_x": null,
            "grid_auto_flow": null,
            "grid_area": null,
            "grid_template_columns": null,
            "flex": null,
            "_model_name": "LayoutModel",
            "justify_items": null,
            "grid_row": null,
            "max_height": null,
            "align_content": null,
            "visibility": null,
            "align_self": null,
            "height": null,
            "min_height": null,
            "padding": null,
            "grid_auto_rows": null,
            "grid_gap": null,
            "max_width": null,
            "order": null,
            "_view_module_version": "1.2.0",
            "grid_template_areas": null,
            "object_position": null,
            "object_fit": null,
            "grid_auto_columns": null,
            "margin": null,
            "display": null,
            "left": null
          }
        },
        "52eeb94bf506457f9ac85b5b05f7ad4c": {
          "model_module": "@jupyter-widgets/controls",
          "model_name": "HBoxModel",
          "state": {
            "_view_name": "HBoxView",
            "_dom_classes": [],
            "_model_name": "HBoxModel",
            "_view_module": "@jupyter-widgets/controls",
            "_model_module_version": "1.5.0",
            "_view_count": null,
            "_view_module_version": "1.5.0",
            "box_style": "",
            "layout": "IPY_MODEL_5a9e419ee6674c46ad4ea5e77d911c98",
            "_model_module": "@jupyter-widgets/controls",
            "children": [
              "IPY_MODEL_fa6578b282904ec9a3e942bfbf3ca38f",
              "IPY_MODEL_2149a15b52434db0a6dd2ffd76563561"
            ]
          }
        },
        "5a9e419ee6674c46ad4ea5e77d911c98": {
          "model_module": "@jupyter-widgets/base",
          "model_name": "LayoutModel",
          "state": {
            "_view_name": "LayoutView",
            "grid_template_rows": null,
            "right": null,
            "justify_content": null,
            "_view_module": "@jupyter-widgets/base",
            "overflow": null,
            "_model_module_version": "1.2.0",
            "_view_count": null,
            "flex_flow": null,
            "width": null,
            "min_width": null,
            "border": null,
            "align_items": null,
            "bottom": null,
            "_model_module": "@jupyter-widgets/base",
            "top": null,
            "grid_column": null,
            "overflow_y": null,
            "overflow_x": null,
            "grid_auto_flow": null,
            "grid_area": null,
            "grid_template_columns": null,
            "flex": null,
            "_model_name": "LayoutModel",
            "justify_items": null,
            "grid_row": null,
            "max_height": null,
            "align_content": null,
            "visibility": null,
            "align_self": null,
            "height": null,
            "min_height": null,
            "padding": null,
            "grid_auto_rows": null,
            "grid_gap": null,
            "max_width": null,
            "order": null,
            "_view_module_version": "1.2.0",
            "grid_template_areas": null,
            "object_position": null,
            "object_fit": null,
            "grid_auto_columns": null,
            "margin": null,
            "display": null,
            "left": null
          }
        },
        "fa6578b282904ec9a3e942bfbf3ca38f": {
          "model_module": "@jupyter-widgets/controls",
          "model_name": "FloatProgressModel",
          "state": {
            "_view_name": "ProgressView",
            "style": "IPY_MODEL_436425775bcd4a009e5b0f5db97dacfa",
            "_dom_classes": [],
            "description": "",
            "_model_name": "FloatProgressModel",
            "bar_style": "success",
            "max": 12495,
            "_view_module": "@jupyter-widgets/controls",
            "_model_module_version": "1.5.0",
            "value": 12495,
            "_view_count": null,
            "_view_module_version": "1.5.0",
            "orientation": "horizontal",
            "min": 0,
            "description_tooltip": null,
            "_model_module": "@jupyter-widgets/controls",
            "layout": "IPY_MODEL_1488a44527e1447592a2ddf564b38ebe"
          }
        },
        "2149a15b52434db0a6dd2ffd76563561": {
          "model_module": "@jupyter-widgets/controls",
          "model_name": "HTMLModel",
          "state": {
            "_view_name": "HTMLView",
            "style": "IPY_MODEL_1d09411ac2924202a561ac64a01e29c1",
            "_dom_classes": [],
            "description": "",
            "_model_name": "HTMLModel",
            "placeholder": "​",
            "_view_module": "@jupyter-widgets/controls",
            "_model_module_version": "1.5.0",
            "value": " 12496/? [1:25:33&lt;00:00,  2.43it/s]",
            "_view_count": null,
            "_view_module_version": "1.5.0",
            "description_tooltip": null,
            "_model_module": "@jupyter-widgets/controls",
            "layout": "IPY_MODEL_0cbd1e5f3ff84b948138b1d3f1fad1c1"
          }
        },
        "436425775bcd4a009e5b0f5db97dacfa": {
          "model_module": "@jupyter-widgets/controls",
          "model_name": "ProgressStyleModel",
          "state": {
            "_view_name": "StyleView",
            "_model_name": "ProgressStyleModel",
            "description_width": "initial",
            "_view_module": "@jupyter-widgets/base",
            "_model_module_version": "1.5.0",
            "_view_count": null,
            "_view_module_version": "1.2.0",
            "bar_color": null,
            "_model_module": "@jupyter-widgets/controls"
          }
        },
        "1488a44527e1447592a2ddf564b38ebe": {
          "model_module": "@jupyter-widgets/base",
          "model_name": "LayoutModel",
          "state": {
            "_view_name": "LayoutView",
            "grid_template_rows": null,
            "right": null,
            "justify_content": null,
            "_view_module": "@jupyter-widgets/base",
            "overflow": null,
            "_model_module_version": "1.2.0",
            "_view_count": null,
            "flex_flow": null,
            "width": null,
            "min_width": null,
            "border": null,
            "align_items": null,
            "bottom": null,
            "_model_module": "@jupyter-widgets/base",
            "top": null,
            "grid_column": null,
            "overflow_y": null,
            "overflow_x": null,
            "grid_auto_flow": null,
            "grid_area": null,
            "grid_template_columns": null,
            "flex": null,
            "_model_name": "LayoutModel",
            "justify_items": null,
            "grid_row": null,
            "max_height": null,
            "align_content": null,
            "visibility": null,
            "align_self": null,
            "height": null,
            "min_height": null,
            "padding": null,
            "grid_auto_rows": null,
            "grid_gap": null,
            "max_width": null,
            "order": null,
            "_view_module_version": "1.2.0",
            "grid_template_areas": null,
            "object_position": null,
            "object_fit": null,
            "grid_auto_columns": null,
            "margin": null,
            "display": null,
            "left": null
          }
        },
        "1d09411ac2924202a561ac64a01e29c1": {
          "model_module": "@jupyter-widgets/controls",
          "model_name": "DescriptionStyleModel",
          "state": {
            "_view_name": "StyleView",
            "_model_name": "DescriptionStyleModel",
            "description_width": "",
            "_view_module": "@jupyter-widgets/base",
            "_model_module_version": "1.5.0",
            "_view_count": null,
            "_view_module_version": "1.2.0",
            "_model_module": "@jupyter-widgets/controls"
          }
        },
        "0cbd1e5f3ff84b948138b1d3f1fad1c1": {
          "model_module": "@jupyter-widgets/base",
          "model_name": "LayoutModel",
          "state": {
            "_view_name": "LayoutView",
            "grid_template_rows": null,
            "right": null,
            "justify_content": null,
            "_view_module": "@jupyter-widgets/base",
            "overflow": null,
            "_model_module_version": "1.2.0",
            "_view_count": null,
            "flex_flow": null,
            "width": null,
            "min_width": null,
            "border": null,
            "align_items": null,
            "bottom": null,
            "_model_module": "@jupyter-widgets/base",
            "top": null,
            "grid_column": null,
            "overflow_y": null,
            "overflow_x": null,
            "grid_auto_flow": null,
            "grid_area": null,
            "grid_template_columns": null,
            "flex": null,
            "_model_name": "LayoutModel",
            "justify_items": null,
            "grid_row": null,
            "max_height": null,
            "align_content": null,
            "visibility": null,
            "align_self": null,
            "height": null,
            "min_height": null,
            "padding": null,
            "grid_auto_rows": null,
            "grid_gap": null,
            "max_width": null,
            "order": null,
            "_view_module_version": "1.2.0",
            "grid_template_areas": null,
            "object_position": null,
            "object_fit": null,
            "grid_auto_columns": null,
            "margin": null,
            "display": null,
            "left": null
          }
        },
        "e672a348ecc845c6858fd15bd000440c": {
          "model_module": "@jupyter-widgets/controls",
          "model_name": "HBoxModel",
          "state": {
            "_view_name": "HBoxView",
            "_dom_classes": [],
            "_model_name": "HBoxModel",
            "_view_module": "@jupyter-widgets/controls",
            "_model_module_version": "1.5.0",
            "_view_count": null,
            "_view_module_version": "1.5.0",
            "box_style": "",
            "layout": "IPY_MODEL_8a146100e5984ea2b62ebd9b610ce50e",
            "_model_module": "@jupyter-widgets/controls",
            "children": [
              "IPY_MODEL_3937fed9989c485083de7b044f47fd28",
              "IPY_MODEL_cd5d255cdfc44c91807acb0a11b492ff"
            ]
          }
        },
        "8a146100e5984ea2b62ebd9b610ce50e": {
          "model_module": "@jupyter-widgets/base",
          "model_name": "LayoutModel",
          "state": {
            "_view_name": "LayoutView",
            "grid_template_rows": null,
            "right": null,
            "justify_content": null,
            "_view_module": "@jupyter-widgets/base",
            "overflow": null,
            "_model_module_version": "1.2.0",
            "_view_count": null,
            "flex_flow": null,
            "width": null,
            "min_width": null,
            "border": null,
            "align_items": null,
            "bottom": null,
            "_model_module": "@jupyter-widgets/base",
            "top": null,
            "grid_column": null,
            "overflow_y": null,
            "overflow_x": null,
            "grid_auto_flow": null,
            "grid_area": null,
            "grid_template_columns": null,
            "flex": null,
            "_model_name": "LayoutModel",
            "justify_items": null,
            "grid_row": null,
            "max_height": null,
            "align_content": null,
            "visibility": null,
            "align_self": null,
            "height": null,
            "min_height": null,
            "padding": null,
            "grid_auto_rows": null,
            "grid_gap": null,
            "max_width": null,
            "order": null,
            "_view_module_version": "1.2.0",
            "grid_template_areas": null,
            "object_position": null,
            "object_fit": null,
            "grid_auto_columns": null,
            "margin": null,
            "display": null,
            "left": null
          }
        },
        "3937fed9989c485083de7b044f47fd28": {
          "model_module": "@jupyter-widgets/controls",
          "model_name": "FloatProgressModel",
          "state": {
            "_view_name": "ProgressView",
            "style": "IPY_MODEL_ae1e0f229b6549c2ae233798ab75d564",
            "_dom_classes": [],
            "description": "",
            "_model_name": "FloatProgressModel",
            "bar_style": "success",
            "max": 1561,
            "_view_module": "@jupyter-widgets/controls",
            "_model_module_version": "1.5.0",
            "value": 1561,
            "_view_count": null,
            "_view_module_version": "1.5.0",
            "orientation": "horizontal",
            "min": 0,
            "description_tooltip": null,
            "_model_module": "@jupyter-widgets/controls",
            "layout": "IPY_MODEL_d9ec29f18a3b44d2a1e7ce508f62a38c"
          }
        },
        "cd5d255cdfc44c91807acb0a11b492ff": {
          "model_module": "@jupyter-widgets/controls",
          "model_name": "HTMLModel",
          "state": {
            "_view_name": "HTMLView",
            "style": "IPY_MODEL_6fc3aaf698804a8bbdfc77763c54b331",
            "_dom_classes": [],
            "description": "",
            "_model_name": "HTMLModel",
            "placeholder": "​",
            "_view_module": "@jupyter-widgets/controls",
            "_model_module_version": "1.5.0",
            "value": " 1562/? [43:34&lt;00:00,  1.67s/it]",
            "_view_count": null,
            "_view_module_version": "1.5.0",
            "description_tooltip": null,
            "_model_module": "@jupyter-widgets/controls",
            "layout": "IPY_MODEL_f5bafd668d6e45c8b4090c017ea2c3f4"
          }
        },
        "ae1e0f229b6549c2ae233798ab75d564": {
          "model_module": "@jupyter-widgets/controls",
          "model_name": "ProgressStyleModel",
          "state": {
            "_view_name": "StyleView",
            "_model_name": "ProgressStyleModel",
            "description_width": "initial",
            "_view_module": "@jupyter-widgets/base",
            "_model_module_version": "1.5.0",
            "_view_count": null,
            "_view_module_version": "1.2.0",
            "bar_color": null,
            "_model_module": "@jupyter-widgets/controls"
          }
        },
        "d9ec29f18a3b44d2a1e7ce508f62a38c": {
          "model_module": "@jupyter-widgets/base",
          "model_name": "LayoutModel",
          "state": {
            "_view_name": "LayoutView",
            "grid_template_rows": null,
            "right": null,
            "justify_content": null,
            "_view_module": "@jupyter-widgets/base",
            "overflow": null,
            "_model_module_version": "1.2.0",
            "_view_count": null,
            "flex_flow": null,
            "width": null,
            "min_width": null,
            "border": null,
            "align_items": null,
            "bottom": null,
            "_model_module": "@jupyter-widgets/base",
            "top": null,
            "grid_column": null,
            "overflow_y": null,
            "overflow_x": null,
            "grid_auto_flow": null,
            "grid_area": null,
            "grid_template_columns": null,
            "flex": null,
            "_model_name": "LayoutModel",
            "justify_items": null,
            "grid_row": null,
            "max_height": null,
            "align_content": null,
            "visibility": null,
            "align_self": null,
            "height": null,
            "min_height": null,
            "padding": null,
            "grid_auto_rows": null,
            "grid_gap": null,
            "max_width": null,
            "order": null,
            "_view_module_version": "1.2.0",
            "grid_template_areas": null,
            "object_position": null,
            "object_fit": null,
            "grid_auto_columns": null,
            "margin": null,
            "display": null,
            "left": null
          }
        },
        "6fc3aaf698804a8bbdfc77763c54b331": {
          "model_module": "@jupyter-widgets/controls",
          "model_name": "DescriptionStyleModel",
          "state": {
            "_view_name": "StyleView",
            "_model_name": "DescriptionStyleModel",
            "description_width": "",
            "_view_module": "@jupyter-widgets/base",
            "_model_module_version": "1.5.0",
            "_view_count": null,
            "_view_module_version": "1.2.0",
            "_model_module": "@jupyter-widgets/controls"
          }
        },
        "f5bafd668d6e45c8b4090c017ea2c3f4": {
          "model_module": "@jupyter-widgets/base",
          "model_name": "LayoutModel",
          "state": {
            "_view_name": "LayoutView",
            "grid_template_rows": null,
            "right": null,
            "justify_content": null,
            "_view_module": "@jupyter-widgets/base",
            "overflow": null,
            "_model_module_version": "1.2.0",
            "_view_count": null,
            "flex_flow": null,
            "width": null,
            "min_width": null,
            "border": null,
            "align_items": null,
            "bottom": null,
            "_model_module": "@jupyter-widgets/base",
            "top": null,
            "grid_column": null,
            "overflow_y": null,
            "overflow_x": null,
            "grid_auto_flow": null,
            "grid_area": null,
            "grid_template_columns": null,
            "flex": null,
            "_model_name": "LayoutModel",
            "justify_items": null,
            "grid_row": null,
            "max_height": null,
            "align_content": null,
            "visibility": null,
            "align_self": null,
            "height": null,
            "min_height": null,
            "padding": null,
            "grid_auto_rows": null,
            "grid_gap": null,
            "max_width": null,
            "order": null,
            "_view_module_version": "1.2.0",
            "grid_template_areas": null,
            "object_position": null,
            "object_fit": null,
            "grid_auto_columns": null,
            "margin": null,
            "display": null,
            "left": null
          }
        },
        "c6db30fed4d144a3a3041994b08a4c32": {
          "model_module": "@jupyter-widgets/controls",
          "model_name": "HBoxModel",
          "state": {
            "_view_name": "HBoxView",
            "_dom_classes": [],
            "_model_name": "HBoxModel",
            "_view_module": "@jupyter-widgets/controls",
            "_model_module_version": "1.5.0",
            "_view_count": null,
            "_view_module_version": "1.5.0",
            "box_style": "",
            "layout": "IPY_MODEL_5a9af72fef1f46c8a405fa795779e0f2",
            "_model_module": "@jupyter-widgets/controls",
            "children": [
              "IPY_MODEL_2f3aaa7b436148a7a25f42069cbbbc0b",
              "IPY_MODEL_0a8a2c8bf12943ab9ddc6dd65bf91348"
            ]
          }
        },
        "5a9af72fef1f46c8a405fa795779e0f2": {
          "model_module": "@jupyter-widgets/base",
          "model_name": "LayoutModel",
          "state": {
            "_view_name": "LayoutView",
            "grid_template_rows": null,
            "right": null,
            "justify_content": null,
            "_view_module": "@jupyter-widgets/base",
            "overflow": null,
            "_model_module_version": "1.2.0",
            "_view_count": null,
            "flex_flow": null,
            "width": null,
            "min_width": null,
            "border": null,
            "align_items": null,
            "bottom": null,
            "_model_module": "@jupyter-widgets/base",
            "top": null,
            "grid_column": null,
            "overflow_y": null,
            "overflow_x": null,
            "grid_auto_flow": null,
            "grid_area": null,
            "grid_template_columns": null,
            "flex": null,
            "_model_name": "LayoutModel",
            "justify_items": null,
            "grid_row": null,
            "max_height": null,
            "align_content": null,
            "visibility": null,
            "align_self": null,
            "height": null,
            "min_height": null,
            "padding": null,
            "grid_auto_rows": null,
            "grid_gap": null,
            "max_width": null,
            "order": null,
            "_view_module_version": "1.2.0",
            "grid_template_areas": null,
            "object_position": null,
            "object_fit": null,
            "grid_auto_columns": null,
            "margin": null,
            "display": null,
            "left": null
          }
        },
        "2f3aaa7b436148a7a25f42069cbbbc0b": {
          "model_module": "@jupyter-widgets/controls",
          "model_name": "FloatProgressModel",
          "state": {
            "_view_name": "ProgressView",
            "style": "IPY_MODEL_5a9482d7f7c84cd4a9ab8c3eb883dd4d",
            "_dom_classes": [],
            "description": "",
            "_model_name": "FloatProgressModel",
            "bar_style": "success",
            "max": 12495,
            "_view_module": "@jupyter-widgets/controls",
            "_model_module_version": "1.5.0",
            "value": 12495,
            "_view_count": null,
            "_view_module_version": "1.5.0",
            "orientation": "horizontal",
            "min": 0,
            "description_tooltip": null,
            "_model_module": "@jupyter-widgets/controls",
            "layout": "IPY_MODEL_84b1e6e908a5447481ccd55c91fc703b"
          }
        },
        "0a8a2c8bf12943ab9ddc6dd65bf91348": {
          "model_module": "@jupyter-widgets/controls",
          "model_name": "HTMLModel",
          "state": {
            "_view_name": "HTMLView",
            "style": "IPY_MODEL_04250c753d6848ef9ddc15aa5744f4b2",
            "_dom_classes": [],
            "description": "",
            "_model_name": "HTMLModel",
            "placeholder": "​",
            "_view_module": "@jupyter-widgets/controls",
            "_model_module_version": "1.5.0",
            "value": " 12496/? [45:03&lt;00:00,  4.62it/s]",
            "_view_count": null,
            "_view_module_version": "1.5.0",
            "description_tooltip": null,
            "_model_module": "@jupyter-widgets/controls",
            "layout": "IPY_MODEL_13e8f197b2754331bf31db04110e4538"
          }
        },
        "5a9482d7f7c84cd4a9ab8c3eb883dd4d": {
          "model_module": "@jupyter-widgets/controls",
          "model_name": "ProgressStyleModel",
          "state": {
            "_view_name": "StyleView",
            "_model_name": "ProgressStyleModel",
            "description_width": "initial",
            "_view_module": "@jupyter-widgets/base",
            "_model_module_version": "1.5.0",
            "_view_count": null,
            "_view_module_version": "1.2.0",
            "bar_color": null,
            "_model_module": "@jupyter-widgets/controls"
          }
        },
        "84b1e6e908a5447481ccd55c91fc703b": {
          "model_module": "@jupyter-widgets/base",
          "model_name": "LayoutModel",
          "state": {
            "_view_name": "LayoutView",
            "grid_template_rows": null,
            "right": null,
            "justify_content": null,
            "_view_module": "@jupyter-widgets/base",
            "overflow": null,
            "_model_module_version": "1.2.0",
            "_view_count": null,
            "flex_flow": null,
            "width": null,
            "min_width": null,
            "border": null,
            "align_items": null,
            "bottom": null,
            "_model_module": "@jupyter-widgets/base",
            "top": null,
            "grid_column": null,
            "overflow_y": null,
            "overflow_x": null,
            "grid_auto_flow": null,
            "grid_area": null,
            "grid_template_columns": null,
            "flex": null,
            "_model_name": "LayoutModel",
            "justify_items": null,
            "grid_row": null,
            "max_height": null,
            "align_content": null,
            "visibility": null,
            "align_self": null,
            "height": null,
            "min_height": null,
            "padding": null,
            "grid_auto_rows": null,
            "grid_gap": null,
            "max_width": null,
            "order": null,
            "_view_module_version": "1.2.0",
            "grid_template_areas": null,
            "object_position": null,
            "object_fit": null,
            "grid_auto_columns": null,
            "margin": null,
            "display": null,
            "left": null
          }
        },
        "04250c753d6848ef9ddc15aa5744f4b2": {
          "model_module": "@jupyter-widgets/controls",
          "model_name": "DescriptionStyleModel",
          "state": {
            "_view_name": "StyleView",
            "_model_name": "DescriptionStyleModel",
            "description_width": "",
            "_view_module": "@jupyter-widgets/base",
            "_model_module_version": "1.5.0",
            "_view_count": null,
            "_view_module_version": "1.2.0",
            "_model_module": "@jupyter-widgets/controls"
          }
        },
        "13e8f197b2754331bf31db04110e4538": {
          "model_module": "@jupyter-widgets/base",
          "model_name": "LayoutModel",
          "state": {
            "_view_name": "LayoutView",
            "grid_template_rows": null,
            "right": null,
            "justify_content": null,
            "_view_module": "@jupyter-widgets/base",
            "overflow": null,
            "_model_module_version": "1.2.0",
            "_view_count": null,
            "flex_flow": null,
            "width": null,
            "min_width": null,
            "border": null,
            "align_items": null,
            "bottom": null,
            "_model_module": "@jupyter-widgets/base",
            "top": null,
            "grid_column": null,
            "overflow_y": null,
            "overflow_x": null,
            "grid_auto_flow": null,
            "grid_area": null,
            "grid_template_columns": null,
            "flex": null,
            "_model_name": "LayoutModel",
            "justify_items": null,
            "grid_row": null,
            "max_height": null,
            "align_content": null,
            "visibility": null,
            "align_self": null,
            "height": null,
            "min_height": null,
            "padding": null,
            "grid_auto_rows": null,
            "grid_gap": null,
            "max_width": null,
            "order": null,
            "_view_module_version": "1.2.0",
            "grid_template_areas": null,
            "object_position": null,
            "object_fit": null,
            "grid_auto_columns": null,
            "margin": null,
            "display": null,
            "left": null
          }
        },
        "0a7053cfc3ce4b25ba42fcaab31c445c": {
          "model_module": "@jupyter-widgets/controls",
          "model_name": "HBoxModel",
          "state": {
            "_view_name": "HBoxView",
            "_dom_classes": [],
            "_model_name": "HBoxModel",
            "_view_module": "@jupyter-widgets/controls",
            "_model_module_version": "1.5.0",
            "_view_count": null,
            "_view_module_version": "1.5.0",
            "box_style": "",
            "layout": "IPY_MODEL_a592fefc5b444e2f80aa1d298283743a",
            "_model_module": "@jupyter-widgets/controls",
            "children": [
              "IPY_MODEL_5c27d5fb933e44babea6bc2992cec4d6",
              "IPY_MODEL_a813b91eadd2485989eaa532f8608684"
            ]
          }
        },
        "a592fefc5b444e2f80aa1d298283743a": {
          "model_module": "@jupyter-widgets/base",
          "model_name": "LayoutModel",
          "state": {
            "_view_name": "LayoutView",
            "grid_template_rows": null,
            "right": null,
            "justify_content": null,
            "_view_module": "@jupyter-widgets/base",
            "overflow": null,
            "_model_module_version": "1.2.0",
            "_view_count": null,
            "flex_flow": null,
            "width": null,
            "min_width": null,
            "border": null,
            "align_items": null,
            "bottom": null,
            "_model_module": "@jupyter-widgets/base",
            "top": null,
            "grid_column": null,
            "overflow_y": null,
            "overflow_x": null,
            "grid_auto_flow": null,
            "grid_area": null,
            "grid_template_columns": null,
            "flex": null,
            "_model_name": "LayoutModel",
            "justify_items": null,
            "grid_row": null,
            "max_height": null,
            "align_content": null,
            "visibility": null,
            "align_self": null,
            "height": null,
            "min_height": null,
            "padding": null,
            "grid_auto_rows": null,
            "grid_gap": null,
            "max_width": null,
            "order": null,
            "_view_module_version": "1.2.0",
            "grid_template_areas": null,
            "object_position": null,
            "object_fit": null,
            "grid_auto_columns": null,
            "margin": null,
            "display": null,
            "left": null
          }
        },
        "5c27d5fb933e44babea6bc2992cec4d6": {
          "model_module": "@jupyter-widgets/controls",
          "model_name": "FloatProgressModel",
          "state": {
            "_view_name": "ProgressView",
            "style": "IPY_MODEL_6bcdb16a51164f3ea3798b8797c84ebc",
            "_dom_classes": [],
            "description": "",
            "_model_name": "FloatProgressModel",
            "bar_style": "success",
            "max": 1561,
            "_view_module": "@jupyter-widgets/controls",
            "_model_module_version": "1.5.0",
            "value": 1561,
            "_view_count": null,
            "_view_module_version": "1.5.0",
            "orientation": "horizontal",
            "min": 0,
            "description_tooltip": null,
            "_model_module": "@jupyter-widgets/controls",
            "layout": "IPY_MODEL_2fbb4a2f6c094b269948afda06cd2709"
          }
        },
        "a813b91eadd2485989eaa532f8608684": {
          "model_module": "@jupyter-widgets/controls",
          "model_name": "HTMLModel",
          "state": {
            "_view_name": "HTMLView",
            "style": "IPY_MODEL_e5139f8a06a64310873af219a9d34ffb",
            "_dom_classes": [],
            "description": "",
            "_model_name": "HTMLModel",
            "placeholder": "​",
            "_view_module": "@jupyter-widgets/controls",
            "_model_module_version": "1.5.0",
            "value": " 1562/? [03:06&lt;00:00,  8.39it/s]",
            "_view_count": null,
            "_view_module_version": "1.5.0",
            "description_tooltip": null,
            "_model_module": "@jupyter-widgets/controls",
            "layout": "IPY_MODEL_a56dad7e84d7484d85de3b21e0551433"
          }
        },
        "6bcdb16a51164f3ea3798b8797c84ebc": {
          "model_module": "@jupyter-widgets/controls",
          "model_name": "ProgressStyleModel",
          "state": {
            "_view_name": "StyleView",
            "_model_name": "ProgressStyleModel",
            "description_width": "initial",
            "_view_module": "@jupyter-widgets/base",
            "_model_module_version": "1.5.0",
            "_view_count": null,
            "_view_module_version": "1.2.0",
            "bar_color": null,
            "_model_module": "@jupyter-widgets/controls"
          }
        },
        "2fbb4a2f6c094b269948afda06cd2709": {
          "model_module": "@jupyter-widgets/base",
          "model_name": "LayoutModel",
          "state": {
            "_view_name": "LayoutView",
            "grid_template_rows": null,
            "right": null,
            "justify_content": null,
            "_view_module": "@jupyter-widgets/base",
            "overflow": null,
            "_model_module_version": "1.2.0",
            "_view_count": null,
            "flex_flow": null,
            "width": null,
            "min_width": null,
            "border": null,
            "align_items": null,
            "bottom": null,
            "_model_module": "@jupyter-widgets/base",
            "top": null,
            "grid_column": null,
            "overflow_y": null,
            "overflow_x": null,
            "grid_auto_flow": null,
            "grid_area": null,
            "grid_template_columns": null,
            "flex": null,
            "_model_name": "LayoutModel",
            "justify_items": null,
            "grid_row": null,
            "max_height": null,
            "align_content": null,
            "visibility": null,
            "align_self": null,
            "height": null,
            "min_height": null,
            "padding": null,
            "grid_auto_rows": null,
            "grid_gap": null,
            "max_width": null,
            "order": null,
            "_view_module_version": "1.2.0",
            "grid_template_areas": null,
            "object_position": null,
            "object_fit": null,
            "grid_auto_columns": null,
            "margin": null,
            "display": null,
            "left": null
          }
        },
        "e5139f8a06a64310873af219a9d34ffb": {
          "model_module": "@jupyter-widgets/controls",
          "model_name": "DescriptionStyleModel",
          "state": {
            "_view_name": "StyleView",
            "_model_name": "DescriptionStyleModel",
            "description_width": "",
            "_view_module": "@jupyter-widgets/base",
            "_model_module_version": "1.5.0",
            "_view_count": null,
            "_view_module_version": "1.2.0",
            "_model_module": "@jupyter-widgets/controls"
          }
        },
        "a56dad7e84d7484d85de3b21e0551433": {
          "model_module": "@jupyter-widgets/base",
          "model_name": "LayoutModel",
          "state": {
            "_view_name": "LayoutView",
            "grid_template_rows": null,
            "right": null,
            "justify_content": null,
            "_view_module": "@jupyter-widgets/base",
            "overflow": null,
            "_model_module_version": "1.2.0",
            "_view_count": null,
            "flex_flow": null,
            "width": null,
            "min_width": null,
            "border": null,
            "align_items": null,
            "bottom": null,
            "_model_module": "@jupyter-widgets/base",
            "top": null,
            "grid_column": null,
            "overflow_y": null,
            "overflow_x": null,
            "grid_auto_flow": null,
            "grid_area": null,
            "grid_template_columns": null,
            "flex": null,
            "_model_name": "LayoutModel",
            "justify_items": null,
            "grid_row": null,
            "max_height": null,
            "align_content": null,
            "visibility": null,
            "align_self": null,
            "height": null,
            "min_height": null,
            "padding": null,
            "grid_auto_rows": null,
            "grid_gap": null,
            "max_width": null,
            "order": null,
            "_view_module_version": "1.2.0",
            "grid_template_areas": null,
            "object_position": null,
            "object_fit": null,
            "grid_auto_columns": null,
            "margin": null,
            "display": null,
            "left": null
          }
        },
        "361f43aab5574ea4b9d4ec1b65fdff4a": {
          "model_module": "@jupyter-widgets/controls",
          "model_name": "HBoxModel",
          "state": {
            "_view_name": "HBoxView",
            "_dom_classes": [],
            "_model_name": "HBoxModel",
            "_view_module": "@jupyter-widgets/controls",
            "_model_module_version": "1.5.0",
            "_view_count": null,
            "_view_module_version": "1.5.0",
            "box_style": "",
            "layout": "IPY_MODEL_dbe1fe6667034a498f6de4df5981bc6f",
            "_model_module": "@jupyter-widgets/controls",
            "children": [
              "IPY_MODEL_03ec2d6543dc4887a04029397592f92e",
              "IPY_MODEL_f9f9ef82802d4b5890ad730c916daf15"
            ]
          }
        },
        "dbe1fe6667034a498f6de4df5981bc6f": {
          "model_module": "@jupyter-widgets/base",
          "model_name": "LayoutModel",
          "state": {
            "_view_name": "LayoutView",
            "grid_template_rows": null,
            "right": null,
            "justify_content": null,
            "_view_module": "@jupyter-widgets/base",
            "overflow": null,
            "_model_module_version": "1.2.0",
            "_view_count": null,
            "flex_flow": null,
            "width": null,
            "min_width": null,
            "border": null,
            "align_items": null,
            "bottom": null,
            "_model_module": "@jupyter-widgets/base",
            "top": null,
            "grid_column": null,
            "overflow_y": null,
            "overflow_x": null,
            "grid_auto_flow": null,
            "grid_area": null,
            "grid_template_columns": null,
            "flex": null,
            "_model_name": "LayoutModel",
            "justify_items": null,
            "grid_row": null,
            "max_height": null,
            "align_content": null,
            "visibility": null,
            "align_self": null,
            "height": null,
            "min_height": null,
            "padding": null,
            "grid_auto_rows": null,
            "grid_gap": null,
            "max_width": null,
            "order": null,
            "_view_module_version": "1.2.0",
            "grid_template_areas": null,
            "object_position": null,
            "object_fit": null,
            "grid_auto_columns": null,
            "margin": null,
            "display": null,
            "left": null
          }
        },
        "03ec2d6543dc4887a04029397592f92e": {
          "model_module": "@jupyter-widgets/controls",
          "model_name": "FloatProgressModel",
          "state": {
            "_view_name": "ProgressView",
            "style": "IPY_MODEL_c0d180727ce0419789468729b876591a",
            "_dom_classes": [],
            "description": "",
            "_model_name": "FloatProgressModel",
            "bar_style": "success",
            "max": 1561,
            "_view_module": "@jupyter-widgets/controls",
            "_model_module_version": "1.5.0",
            "value": 1561,
            "_view_count": null,
            "_view_module_version": "1.5.0",
            "orientation": "horizontal",
            "min": 0,
            "description_tooltip": null,
            "_model_module": "@jupyter-widgets/controls",
            "layout": "IPY_MODEL_84f29db36bfb4647bf393477b811c886"
          }
        },
        "f9f9ef82802d4b5890ad730c916daf15": {
          "model_module": "@jupyter-widgets/controls",
          "model_name": "HTMLModel",
          "state": {
            "_view_name": "HTMLView",
            "style": "IPY_MODEL_7e2666bdf33b4f679b3a7413c590c4e0",
            "_dom_classes": [],
            "description": "",
            "_model_name": "HTMLModel",
            "placeholder": "​",
            "_view_module": "@jupyter-widgets/controls",
            "_model_module_version": "1.5.0",
            "value": " 1562/? [30:23&lt;00:00,  1.17s/it]",
            "_view_count": null,
            "_view_module_version": "1.5.0",
            "description_tooltip": null,
            "_model_module": "@jupyter-widgets/controls",
            "layout": "IPY_MODEL_a4353fa533f0490baf0fb84d05d77d5d"
          }
        },
        "c0d180727ce0419789468729b876591a": {
          "model_module": "@jupyter-widgets/controls",
          "model_name": "ProgressStyleModel",
          "state": {
            "_view_name": "StyleView",
            "_model_name": "ProgressStyleModel",
            "description_width": "initial",
            "_view_module": "@jupyter-widgets/base",
            "_model_module_version": "1.5.0",
            "_view_count": null,
            "_view_module_version": "1.2.0",
            "bar_color": null,
            "_model_module": "@jupyter-widgets/controls"
          }
        },
        "84f29db36bfb4647bf393477b811c886": {
          "model_module": "@jupyter-widgets/base",
          "model_name": "LayoutModel",
          "state": {
            "_view_name": "LayoutView",
            "grid_template_rows": null,
            "right": null,
            "justify_content": null,
            "_view_module": "@jupyter-widgets/base",
            "overflow": null,
            "_model_module_version": "1.2.0",
            "_view_count": null,
            "flex_flow": null,
            "width": null,
            "min_width": null,
            "border": null,
            "align_items": null,
            "bottom": null,
            "_model_module": "@jupyter-widgets/base",
            "top": null,
            "grid_column": null,
            "overflow_y": null,
            "overflow_x": null,
            "grid_auto_flow": null,
            "grid_area": null,
            "grid_template_columns": null,
            "flex": null,
            "_model_name": "LayoutModel",
            "justify_items": null,
            "grid_row": null,
            "max_height": null,
            "align_content": null,
            "visibility": null,
            "align_self": null,
            "height": null,
            "min_height": null,
            "padding": null,
            "grid_auto_rows": null,
            "grid_gap": null,
            "max_width": null,
            "order": null,
            "_view_module_version": "1.2.0",
            "grid_template_areas": null,
            "object_position": null,
            "object_fit": null,
            "grid_auto_columns": null,
            "margin": null,
            "display": null,
            "left": null
          }
        },
        "7e2666bdf33b4f679b3a7413c590c4e0": {
          "model_module": "@jupyter-widgets/controls",
          "model_name": "DescriptionStyleModel",
          "state": {
            "_view_name": "StyleView",
            "_model_name": "DescriptionStyleModel",
            "description_width": "",
            "_view_module": "@jupyter-widgets/base",
            "_model_module_version": "1.5.0",
            "_view_count": null,
            "_view_module_version": "1.2.0",
            "_model_module": "@jupyter-widgets/controls"
          }
        },
        "a4353fa533f0490baf0fb84d05d77d5d": {
          "model_module": "@jupyter-widgets/base",
          "model_name": "LayoutModel",
          "state": {
            "_view_name": "LayoutView",
            "grid_template_rows": null,
            "right": null,
            "justify_content": null,
            "_view_module": "@jupyter-widgets/base",
            "overflow": null,
            "_model_module_version": "1.2.0",
            "_view_count": null,
            "flex_flow": null,
            "width": null,
            "min_width": null,
            "border": null,
            "align_items": null,
            "bottom": null,
            "_model_module": "@jupyter-widgets/base",
            "top": null,
            "grid_column": null,
            "overflow_y": null,
            "overflow_x": null,
            "grid_auto_flow": null,
            "grid_area": null,
            "grid_template_columns": null,
            "flex": null,
            "_model_name": "LayoutModel",
            "justify_items": null,
            "grid_row": null,
            "max_height": null,
            "align_content": null,
            "visibility": null,
            "align_self": null,
            "height": null,
            "min_height": null,
            "padding": null,
            "grid_auto_rows": null,
            "grid_gap": null,
            "max_width": null,
            "order": null,
            "_view_module_version": "1.2.0",
            "grid_template_areas": null,
            "object_position": null,
            "object_fit": null,
            "grid_auto_columns": null,
            "margin": null,
            "display": null,
            "left": null
          }
        }
      }
    }
  },
  "cells": [
    {
      "cell_type": "markdown",
      "metadata": {
        "id": "4j-luuCk8rC-"
      },
      "source": [
        "# BERT notebook"
      ]
    },
    {
      "cell_type": "code",
      "metadata": {
        "id": "A2HgRx70o5TR"
      },
      "source": [
        "!pip install -q gdown"
      ],
      "execution_count": 1,
      "outputs": []
    },
    {
      "cell_type": "code",
      "metadata": {
        "id": "BVI3DzeCoPKF"
      },
      "source": [
        "import gdown\r\n",
        "import json\r\n",
        "import numpy as np\r\n",
        "import pandas as pd\r\n",
        "\r\n",
        "import matplotlib.pyplot as plt\r\n",
        "%matplotlib inline\r\n",
        "from IPython.display import clear_output\r\n",
        "import seaborn as sns\r\n",
        "\r\n",
        "import torch\r\n",
        "import torch.nn as nn\r\n",
        "import torch.nn.functional as F\r\n",
        "from torch.utils.data import random_split\r\n",
        "from torch.utils.data import DataLoader\r\n",
        "from tqdm.notebook import tqdm\r\n",
        "from sklearn.metrics import f1_score"
      ],
      "execution_count": 2,
      "outputs": []
    },
    {
      "cell_type": "code",
      "metadata": {
        "colab": {
          "base_uri": "https://localhost:8080/",
          "height": 35
        },
        "id": "iQNv8XYkolNV",
        "outputId": "225b32c5-bfbe-4cb0-ff2a-fd8cd3250501"
      },
      "source": [
        "gdown.download(\"https://drive.google.com/u/0/uc?export=download&confirm=znhq&id=1RHS3GdZNM9yz89GNWYycc3V94ezI3JzC\", \"request.gz\", True)"
      ],
      "execution_count": 3,
      "outputs": [
        {
          "output_type": "execute_result",
          "data": {
            "application/vnd.google.colaboratory.intrinsic+json": {
              "type": "string"
            },
            "text/plain": [
              "'request.gz'"
            ]
          },
          "metadata": {
            "tags": []
          },
          "execution_count": 3
        }
      ]
    },
    {
      "cell_type": "code",
      "metadata": {
        "id": "CYSHwgsvpiCI"
      },
      "source": [
        "!gunzip request.gz"
      ],
      "execution_count": 4,
      "outputs": []
    },
    {
      "cell_type": "markdown",
      "metadata": {
        "id": "lw3ueTEB7kAt"
      },
      "source": [
        "### Data preprocessing"
      ]
    },
    {
      "cell_type": "code",
      "metadata": {
        "id": "h_hdlxDqs5KT"
      },
      "source": [
        "data = pd.read_json(\"/content/request\", lines=True)"
      ],
      "execution_count": 106,
      "outputs": []
    },
    {
      "cell_type": "code",
      "metadata": {
        "colab": {
          "base_uri": "https://localhost:8080/",
          "height": 574
        },
        "id": "98tYlHHCuJq9",
        "outputId": "b8de8e7e-401e-48c6-9f41-a695ec5ab7c0"
      },
      "source": [
        "data.head(7)"
      ],
      "execution_count": 107,
      "outputs": [
        {
          "output_type": "execute_result",
          "data": {
            "text/html": [
              "<div>\n",
              "<style scoped>\n",
              "    .dataframe tbody tr th:only-of-type {\n",
              "        vertical-align: middle;\n",
              "    }\n",
              "\n",
              "    .dataframe tbody tr th {\n",
              "        vertical-align: top;\n",
              "    }\n",
              "\n",
              "    .dataframe thead th {\n",
              "        text-align: right;\n",
              "    }\n",
              "</style>\n",
              "<table border=\"1\" class=\"dataframe\">\n",
              "  <thead>\n",
              "    <tr style=\"text-align: right;\">\n",
              "      <th></th>\n",
              "      <th>overall</th>\n",
              "      <th>verified</th>\n",
              "      <th>reviewTime</th>\n",
              "      <th>reviewerID</th>\n",
              "      <th>asin</th>\n",
              "      <th>style</th>\n",
              "      <th>reviewerName</th>\n",
              "      <th>reviewText</th>\n",
              "      <th>summary</th>\n",
              "      <th>unixReviewTime</th>\n",
              "      <th>vote</th>\n",
              "      <th>image</th>\n",
              "    </tr>\n",
              "  </thead>\n",
              "  <tbody>\n",
              "    <tr>\n",
              "      <th>0</th>\n",
              "      <td>4</td>\n",
              "      <td>False</td>\n",
              "      <td>05 1, 2015</td>\n",
              "      <td>A8WEXFRWX1ZHH</td>\n",
              "      <td>0209688726</td>\n",
              "      <td>{'Color:': ' AC'}</td>\n",
              "      <td>Goldengate</td>\n",
              "      <td>After I wrote the below review, the manufactur...</td>\n",
              "      <td>Works well if you place phone in horizontally ...</td>\n",
              "      <td>1430438400</td>\n",
              "      <td>NaN</td>\n",
              "      <td>NaN</td>\n",
              "    </tr>\n",
              "    <tr>\n",
              "      <th>1</th>\n",
              "      <td>1</td>\n",
              "      <td>True</td>\n",
              "      <td>04 19, 2018</td>\n",
              "      <td>ABCA1A8E4DGV1</td>\n",
              "      <td>0209688726</td>\n",
              "      <td>{'Color:': ' Blue'}</td>\n",
              "      <td>noe</td>\n",
              "      <td>It sucks barely picks up anything definitely n...</td>\n",
              "      <td>sucks</td>\n",
              "      <td>1524096000</td>\n",
              "      <td>NaN</td>\n",
              "      <td>NaN</td>\n",
              "    </tr>\n",
              "    <tr>\n",
              "      <th>2</th>\n",
              "      <td>1</td>\n",
              "      <td>True</td>\n",
              "      <td>04 16, 2018</td>\n",
              "      <td>A1NX8HM89FRQ32</td>\n",
              "      <td>0209688726</td>\n",
              "      <td>{'Color:': ' Black'}</td>\n",
              "      <td>Eduard</td>\n",
              "      <td>Well to write a short one, it blew 2 fuses of ...</td>\n",
              "      <td>Defective</td>\n",
              "      <td>1523836800</td>\n",
              "      <td>NaN</td>\n",
              "      <td>NaN</td>\n",
              "    </tr>\n",
              "    <tr>\n",
              "      <th>3</th>\n",
              "      <td>3</td>\n",
              "      <td>True</td>\n",
              "      <td>04 13, 2018</td>\n",
              "      <td>A1X77G023NY0KY</td>\n",
              "      <td>0209688726</td>\n",
              "      <td>{'Color:': ' CA'}</td>\n",
              "      <td>Lauren</td>\n",
              "      <td>I have absolutely no memory of buying this but...</td>\n",
              "      <td>Looks cool! Probably works</td>\n",
              "      <td>1523577600</td>\n",
              "      <td>NaN</td>\n",
              "      <td>NaN</td>\n",
              "    </tr>\n",
              "    <tr>\n",
              "      <th>4</th>\n",
              "      <td>5</td>\n",
              "      <td>True</td>\n",
              "      <td>04 8, 2018</td>\n",
              "      <td>A3GK37JO2MGW6Q</td>\n",
              "      <td>0209688726</td>\n",
              "      <td>{'Color:': ' Black'}</td>\n",
              "      <td>danny</td>\n",
              "      <td>it ok it does it job</td>\n",
              "      <td>Five Stars</td>\n",
              "      <td>1523145600</td>\n",
              "      <td>NaN</td>\n",
              "      <td>NaN</td>\n",
              "    </tr>\n",
              "    <tr>\n",
              "      <th>5</th>\n",
              "      <td>5</td>\n",
              "      <td>True</td>\n",
              "      <td>03 24, 2018</td>\n",
              "      <td>AIY18YON1TWJJ</td>\n",
              "      <td>0209688726</td>\n",
              "      <td>{'Color:': ' Black'}</td>\n",
              "      <td>Karen H.</td>\n",
              "      <td>Have 3 big dogs. this have been great for my F...</td>\n",
              "      <td>this have been great for my Ford transit connect</td>\n",
              "      <td>1521849600</td>\n",
              "      <td>NaN</td>\n",
              "      <td>NaN</td>\n",
              "    </tr>\n",
              "    <tr>\n",
              "      <th>6</th>\n",
              "      <td>3</td>\n",
              "      <td>True</td>\n",
              "      <td>03 4, 2018</td>\n",
              "      <td>A2MPTQ85HBBNG2</td>\n",
              "      <td>0209688726</td>\n",
              "      <td>{'Color:': ' Black'}</td>\n",
              "      <td>Giv</td>\n",
              "      <td>Pros: Good attachments, nice long cord, can re...</td>\n",
              "      <td>Decent car vaccuum.</td>\n",
              "      <td>1520121600</td>\n",
              "      <td>NaN</td>\n",
              "      <td>NaN</td>\n",
              "    </tr>\n",
              "  </tbody>\n",
              "</table>\n",
              "</div>"
            ],
            "text/plain": [
              "   overall  verified   reviewTime  ... unixReviewTime vote image\n",
              "0        4     False   05 1, 2015  ...     1430438400  NaN   NaN\n",
              "1        1      True  04 19, 2018  ...     1524096000  NaN   NaN\n",
              "2        1      True  04 16, 2018  ...     1523836800  NaN   NaN\n",
              "3        3      True  04 13, 2018  ...     1523577600  NaN   NaN\n",
              "4        5      True   04 8, 2018  ...     1523145600  NaN   NaN\n",
              "5        5      True  03 24, 2018  ...     1521849600  NaN   NaN\n",
              "6        3      True   03 4, 2018  ...     1520121600  NaN   NaN\n",
              "\n",
              "[7 rows x 12 columns]"
            ]
          },
          "metadata": {
            "tags": []
          },
          "execution_count": 107
        }
      ]
    },
    {
      "cell_type": "code",
      "metadata": {
        "id": "I6lj0UkivF_0"
      },
      "source": [
        "data = data[[\"overall\", \"reviewText\"]]"
      ],
      "execution_count": 7,
      "outputs": []
    },
    {
      "cell_type": "markdown",
      "metadata": {
        "id": "9OFC0gDw7wVr"
      },
      "source": [
        "Check for NaN values"
      ]
    },
    {
      "cell_type": "code",
      "metadata": {
        "colab": {
          "base_uri": "https://localhost:8080/"
        },
        "id": "c3SKYIbJvTyD",
        "outputId": "c0e5cf25-33ea-4704-b5bf-a39625ea8a62"
      },
      "source": [
        "data.isna().any()"
      ],
      "execution_count": 8,
      "outputs": [
        {
          "output_type": "execute_result",
          "data": {
            "text/plain": [
              "overall       False\n",
              "reviewText     True\n",
              "dtype: bool"
            ]
          },
          "metadata": {
            "tags": []
          },
          "execution_count": 8
        }
      ]
    },
    {
      "cell_type": "code",
      "metadata": {
        "colab": {
          "base_uri": "https://localhost:8080/"
        },
        "id": "GONAuOgbvbKY",
        "outputId": "74450b03-6c98-466a-9e81-33726ced1dd4"
      },
      "source": [
        "print(\"Amount of samples BEFORE dropping empty values: \", data.shape[0])\r\n",
        "print(\"Amount of samples AFTER dropping empty values: \", data.dropna().shape[0])\r\n",
        "print(\"Amount of dropped lines: \", data.shape[0] - data.dropna().shape[0])"
      ],
      "execution_count": 9,
      "outputs": [
        {
          "output_type": "stream",
          "text": [
            "Amount of samples BEFORE dropping empty values:  1000000\n",
            "Amount of samples AFTER dropping empty values:  999636\n",
            "Amount of dropped lines:  364\n"
          ],
          "name": "stdout"
        }
      ]
    },
    {
      "cell_type": "markdown",
      "metadata": {
        "id": "GmXJFozc70No"
      },
      "source": [
        "Delete missed values and reset index"
      ]
    },
    {
      "cell_type": "code",
      "metadata": {
        "id": "Vmb0m66Yvfes"
      },
      "source": [
        "data.dropna(inplace=True)"
      ],
      "execution_count": 10,
      "outputs": []
    },
    {
      "cell_type": "code",
      "metadata": {
        "id": "EqZaRILBeY09"
      },
      "source": [
        "data.reset_index(drop=True, inplace=True)"
      ],
      "execution_count": 11,
      "outputs": []
    },
    {
      "cell_type": "code",
      "metadata": {
        "colab": {
          "base_uri": "https://localhost:8080/",
          "height": 284
        },
        "id": "l8tvJgZMww4z",
        "outputId": "80084f4b-2ea7-404f-d0ce-0dcff5651bd1"
      },
      "source": [
        "data.describe()"
      ],
      "execution_count": 12,
      "outputs": [
        {
          "output_type": "execute_result",
          "data": {
            "text/html": [
              "<div>\n",
              "<style scoped>\n",
              "    .dataframe tbody tr th:only-of-type {\n",
              "        vertical-align: middle;\n",
              "    }\n",
              "\n",
              "    .dataframe tbody tr th {\n",
              "        vertical-align: top;\n",
              "    }\n",
              "\n",
              "    .dataframe thead th {\n",
              "        text-align: right;\n",
              "    }\n",
              "</style>\n",
              "<table border=\"1\" class=\"dataframe\">\n",
              "  <thead>\n",
              "    <tr style=\"text-align: right;\">\n",
              "      <th></th>\n",
              "      <th>overall</th>\n",
              "    </tr>\n",
              "  </thead>\n",
              "  <tbody>\n",
              "    <tr>\n",
              "      <th>count</th>\n",
              "      <td>999636.000000</td>\n",
              "    </tr>\n",
              "    <tr>\n",
              "      <th>mean</th>\n",
              "      <td>4.480915</td>\n",
              "    </tr>\n",
              "    <tr>\n",
              "      <th>std</th>\n",
              "      <td>1.022296</td>\n",
              "    </tr>\n",
              "    <tr>\n",
              "      <th>min</th>\n",
              "      <td>1.000000</td>\n",
              "    </tr>\n",
              "    <tr>\n",
              "      <th>25%</th>\n",
              "      <td>4.000000</td>\n",
              "    </tr>\n",
              "    <tr>\n",
              "      <th>50%</th>\n",
              "      <td>5.000000</td>\n",
              "    </tr>\n",
              "    <tr>\n",
              "      <th>75%</th>\n",
              "      <td>5.000000</td>\n",
              "    </tr>\n",
              "    <tr>\n",
              "      <th>max</th>\n",
              "      <td>5.000000</td>\n",
              "    </tr>\n",
              "  </tbody>\n",
              "</table>\n",
              "</div>"
            ],
            "text/plain": [
              "             overall\n",
              "count  999636.000000\n",
              "mean        4.480915\n",
              "std         1.022296\n",
              "min         1.000000\n",
              "25%         4.000000\n",
              "50%         5.000000\n",
              "75%         5.000000\n",
              "max         5.000000"
            ]
          },
          "metadata": {
            "tags": []
          },
          "execution_count": 12
        }
      ]
    },
    {
      "cell_type": "code",
      "metadata": {
        "id": "taqhaBKExNlN"
      },
      "source": [
        "rate_distr = dict(data.value_counts(\"overall\"))"
      ],
      "execution_count": 13,
      "outputs": []
    },
    {
      "cell_type": "markdown",
      "metadata": {
        "id": "vDbA8-pc8E8W"
      },
      "source": [
        "As we see, there is disbalance in our data"
      ]
    },
    {
      "cell_type": "code",
      "metadata": {
        "colab": {
          "base_uri": "https://localhost:8080/",
          "height": 296
        },
        "id": "guAXYoWBxSv2",
        "outputId": "5a9e3098-be9d-4705-8f74-369d0c131a00"
      },
      "source": [
        "ax = sns.barplot(x = list(rate_distr.keys()), y = list(rate_distr.values()))\r\n",
        "ax.set(xlabel=\"Rate\", ylabel=\"Feedbacks amount\")"
      ],
      "execution_count": 14,
      "outputs": [
        {
          "output_type": "execute_result",
          "data": {
            "text/plain": [
              "[Text(0, 0.5, 'Feedbacks amount'), Text(0.5, 0, 'Rate')]"
            ]
          },
          "metadata": {
            "tags": []
          },
          "execution_count": 14
        },
        {
          "output_type": "display_data",
          "data": {
            "image/png": "[encoded data removed]",
            "text/plain": [
              "<Figure size 432x288 with 1 Axes>"
            ]
          },
          "metadata": {
            "tags": [],
            "needs_background": "light"
          }
        }
      ]
    },
    {
      "cell_type": "markdown",
      "metadata": {
        "id": "I9MqKrvl8BPL"
      },
      "source": [
        "Check the sentence lengths"
      ]
    },
    {
      "cell_type": "code",
      "metadata": {
        "id": "MNoqgkIZVTEy"
      },
      "source": [
        "reviewsLength = data[\"reviewText\"].apply(lambda x: len(x.split()))"
      ],
      "execution_count": 15,
      "outputs": []
    },
    {
      "cell_type": "code",
      "metadata": {
        "colab": {
          "base_uri": "https://localhost:8080/"
        },
        "id": "Rxswfm_XVyaM",
        "outputId": "6d093879-5c9e-403e-fa50-0fb954fb72c2"
      },
      "source": [
        "reviewsLength.describe()"
      ],
      "execution_count": 16,
      "outputs": [
        {
          "output_type": "execute_result",
          "data": {
            "text/plain": [
              "count    999636.000000\n",
              "mean         36.617947\n",
              "std          58.642644\n",
              "min           0.000000\n",
              "25%           6.000000\n",
              "50%          20.000000\n",
              "75%          43.000000\n",
              "max        3727.000000\n",
              "Name: reviewText, dtype: float64"
            ]
          },
          "metadata": {
            "tags": []
          },
          "execution_count": 16
        }
      ]
    },
    {
      "cell_type": "code",
      "metadata": {
        "colab": {
          "base_uri": "https://localhost:8080/"
        },
        "id": "jil45Gnvw646",
        "outputId": "873d79a1-f1c4-478c-d347-7da1115ddadc"
      },
      "source": [
        "data[\"overall\"].value_counts()"
      ],
      "execution_count": 17,
      "outputs": [
        {
          "output_type": "execute_result",
          "data": {
            "text/plain": [
              "5    723709\n",
              "4    145630\n",
              "3     59565\n",
              "1     41940\n",
              "2     28792\n",
              "Name: overall, dtype: int64"
            ]
          },
          "metadata": {
            "tags": []
          },
          "execution_count": 17
        }
      ]
    },
    {
      "cell_type": "markdown",
      "metadata": {
        "id": "KE3eL4wU78iO"
      },
      "source": [
        "Decreasing the value by one for training reasons (As I have multi-class classification)"
      ]
    },
    {
      "cell_type": "code",
      "metadata": {
        "id": "BRXymUIhRNbd"
      },
      "source": [
        "data[\"overall\"] = data[\"overall\"].apply(lambda x: x-1)"
      ],
      "execution_count": 18,
      "outputs": []
    },
    {
      "cell_type": "markdown",
      "metadata": {
        "id": "PGPtqrYmeAOf"
      },
      "source": [
        "## BERT Transformer"
      ]
    },
    {
      "cell_type": "code",
      "metadata": {
        "id": "TdKbWHvdUBSQ",
        "colab": {
          "base_uri": "https://localhost:8080/"
        },
        "outputId": "fabe5fff-5983-4a66-8a43-fff352a2c088"
      },
      "source": [
        "!pip install -q transformers"
      ],
      "execution_count": 19,
      "outputs": [
        {
          "output_type": "stream",
          "text": [
            "\u001b[K     |████████████████████████████████| 1.8MB 8.1MB/s \n",
            "\u001b[K     |████████████████████████████████| 890kB 34.8MB/s \n",
            "\u001b[K     |████████████████████████████████| 2.9MB 45.3MB/s \n",
            "\u001b[?25h  Building wheel for sacremoses (setup.py) ... \u001b[?25l\u001b[?25hdone\n"
          ],
          "name": "stdout"
        }
      ]
    },
    {
      "cell_type": "code",
      "metadata": {
        "id": "bjxx7jJAeCqT"
      },
      "source": [
        "import transformers as ppb"
      ],
      "execution_count": 20,
      "outputs": []
    },
    {
      "cell_type": "code",
      "metadata": {
        "id": "zu7pl9cDeEXX"
      },
      "source": [
        "model_class, tokenizer_class, pretrained_weights = (ppb.DistilBertModel, ppb.DistilBertTokenizer, \"distilbert-base-uncased\")"
      ],
      "execution_count": 21,
      "outputs": []
    },
    {
      "cell_type": "code",
      "metadata": {
        "id": "MA7kB0KteHLg",
        "colab": {
          "base_uri": "https://localhost:8080/",
          "height": 163,
          "referenced_widgets": [
            "efdcacfc2c4c4ddfab55f4b44318ae46",
            "0693145edfdd49609d518e42ed556154",
            "13ac67a3bb6a4340945b08e0eb33846c",
            "1d0d0e2012d4450ba290a1685a5ab934",
            "ac6afcbb232d4d8f895a1ae6c2528504",
            "b4ca0e2e9d0945ffa447192bba6e098b",
            "850cea0521544062a0f4c44d3bbb7448",
            "11d10ed910a6486f90bad5cc3610b143",
            "b11db91b91864a7ea1402d0969233b7c",
            "a45e835f80c0425e8c596c5d229417f3",
            "569164b15dab40249892b4c315872077",
            "390e5dbe63984693b046ee18c37f5a5f",
            "742329dfc077474491e0ba4bfbcc7160",
            "01e3337d8e3a47e0ba15febf84e85ad1",
            "016189407e884c0c8f2df75da74e7699",
            "f1badf122b3642089cec96eb3822e20a",
            "045a3462970e424d8f780b69af9f4ce3",
            "23f0cfd614684c51982517e6a8581fee",
            "44ed41463664413e84488e90d82f0d8a",
            "d82dc8cef9e04e39adbe47c3fde55bc9",
            "3119c6abe3504dafb16dd347e6d1c654",
            "92609cff59414d189aa1a1267594ffcc",
            "edf9e3d392714ad0b4ea5f0da0b7d1f0",
            "eb2d5463d37f4c218b4ac322fe36c431"
          ]
        },
        "outputId": "269a83c8-a9a1-47bc-d494-5f7a69569621"
      },
      "source": [
        "bert_model = model_class.from_pretrained(pretrained_weights)\r\n",
        "bert_tokenizer = tokenizer_class.from_pretrained(pretrained_weights)"
      ],
      "execution_count": 22,
      "outputs": [
        {
          "output_type": "display_data",
          "data": {
            "application/vnd.jupyter.widget-view+json": {
              "model_id": "efdcacfc2c4c4ddfab55f4b44318ae46",
              "version_minor": 0,
              "version_major": 2
            },
            "text/plain": [
              "HBox(children=(FloatProgress(value=0.0, description='Downloading', max=442.0, style=ProgressStyle(description_…"
            ]
          },
          "metadata": {
            "tags": []
          }
        },
        {
          "output_type": "stream",
          "text": [
            "\n"
          ],
          "name": "stdout"
        },
        {
          "output_type": "display_data",
          "data": {
            "application/vnd.jupyter.widget-view+json": {
              "model_id": "b11db91b91864a7ea1402d0969233b7c",
              "version_minor": 0,
              "version_major": 2
            },
            "text/plain": [
              "HBox(children=(FloatProgress(value=0.0, description='Downloading', max=267967963.0, style=ProgressStyle(descri…"
            ]
          },
          "metadata": {
            "tags": []
          }
        },
        {
          "output_type": "stream",
          "text": [
            "\n"
          ],
          "name": "stdout"
        },
        {
          "output_type": "display_data",
          "data": {
            "application/vnd.jupyter.widget-view+json": {
              "model_id": "045a3462970e424d8f780b69af9f4ce3",
              "version_minor": 0,
              "version_major": 2
            },
            "text/plain": [
              "HBox(children=(FloatProgress(value=0.0, description='Downloading', max=231508.0, style=ProgressStyle(descripti…"
            ]
          },
          "metadata": {
            "tags": []
          }
        },
        {
          "output_type": "stream",
          "text": [
            "\n"
          ],
          "name": "stdout"
        }
      ]
    },
    {
      "cell_type": "code",
      "metadata": {
        "id": "5LhGLIGaeJAq"
      },
      "source": [
        "from torch.utils.data import Dataset\r\n",
        "\r\n",
        "class BertTokenizedDataset(Dataset):\r\n",
        "    def __init__(self, reviews, tokenizer, labels):\r\n",
        "        self.labels = labels\r\n",
        "        # tokenized reviews\r\n",
        "        self.tokenized = reviews.apply((lambda x: tokenizer.encode(x, truncation=True, max_length=70)))\r\n",
        "\r\n",
        "    def __getitem__(self, idx):\r\n",
        "        return {\"tokenized\": self.tokenized[idx], \"label\": self.labels[idx]}\r\n",
        "    \r\n",
        "    def __len__(self):\r\n",
        "        return len(self.labels)"
      ],
      "execution_count": 23,
      "outputs": []
    },
    {
      "cell_type": "code",
      "metadata": {
        "colab": {
          "base_uri": "https://localhost:8080/"
        },
        "id": "ZRhuzjMG5Kev",
        "outputId": "baffd80c-1c07-4e3b-8206-052eefbd067c"
      },
      "source": [
        "%%time\r\n",
        "bert_dataset = BertTokenizedDataset(data.iloc[:, 1], bert_tokenizer, data.iloc[:, 0])"
      ],
      "execution_count": 24,
      "outputs": [
        {
          "output_type": "stream",
          "text": [
            "CPU times: user 12min 2s, sys: 313 ms, total: 12min 2s\n",
            "Wall time: 12min 3s\n"
          ],
          "name": "stdout"
        }
      ]
    },
    {
      "cell_type": "markdown",
      "metadata": {
        "id": "aQivIE3o6xeK"
      },
      "source": [
        "For time saving, I was using pickle to save dataset"
      ]
    },
    {
      "cell_type": "code",
      "metadata": {
        "id": "iUQWBQez5MkC"
      },
      "source": [
        "# import pickle\r\n",
        "\r\n",
        "# with open(\"bert_dataset\", \"wb\") as file:\r\n",
        "#     pickle.dump(bert_dataset, file)\r\n",
        "\r\n",
        "# with open(\"bert_dataset\", \"rb\") as file:\r\n",
        "#     bert_dataset = pickle.load(file)"
      ],
      "execution_count": 25,
      "outputs": []
    },
    {
      "cell_type": "markdown",
      "metadata": {
        "id": "3uw_Sd6R8PMy"
      },
      "source": [
        "### Data iterators creation (that part differs a little bit from RNN model part)"
      ]
    },
    {
      "cell_type": "code",
      "metadata": {
        "id": "QFKR76B9o0uV"
      },
      "source": [
        "def split_data(dataset, ratios):\r\n",
        "    lengths = [int(len(dataset) * ratio) for ratio in ratios]\r\n",
        "    if np.sum(lengths != len(dataset)):\r\n",
        "        lengths[-1] = len(dataset) - np.sum(lengths[:-1])\r\n",
        "\r\n",
        "    return random_split(dataset, lengths)"
      ],
      "execution_count": 26,
      "outputs": []
    },
    {
      "cell_type": "code",
      "metadata": {
        "colab": {
          "base_uri": "https://localhost:8080/"
        },
        "id": "iQmDdqcee1H5",
        "outputId": "2447c876-3a09-47a1-90e5-d2593f0fec1e"
      },
      "source": [
        "torch.manual_seed(2) \r\n",
        "train_data, valid_data, test_data = split_data(bert_dataset, [0.8, 0.1, 0.1])\r\n",
        "\r\n",
        "print(f\"Number of training examples: {len(train_data)}\")\r\n",
        "print(f\"Number of validation examples: {len(valid_data)}\")\r\n",
        "print(f\"Number of testing examples: {len(test_data)}\")"
      ],
      "execution_count": 27,
      "outputs": [
        {
          "output_type": "stream",
          "text": [
            "Number of training examples: 799708\n",
            "Number of validation examples: 99963\n",
            "Number of testing examples: 99965\n"
          ],
          "name": "stdout"
        }
      ]
    },
    {
      "cell_type": "code",
      "metadata": {
        "id": "BG-rSLq22NyZ"
      },
      "source": [
        "from torch.utils.data import Sampler\r\n",
        "\r\n",
        "class ReviewsSampler(Sampler):\r\n",
        "    def __init__(self, subset, batch_size=64):\r\n",
        "        self.batch_size = batch_size\r\n",
        "        self.subset = subset\r\n",
        "\r\n",
        "        self.indices = subset.indices\r\n",
        "        # tokenized for our data\r\n",
        "        self.tokenized = np.array(subset.dataset.tokenized)[self.indices]\r\n",
        "\r\n",
        "    def __iter__(self):\r\n",
        "\r\n",
        "        batch_idx = []\r\n",
        "        # index in sorted data\r\n",
        "        for index in np.argsort(list(map(len, self.tokenized))):\r\n",
        "            batch_idx.append(index)\r\n",
        "            if len(batch_idx) == self.batch_size:\r\n",
        "                yield batch_idx\r\n",
        "                batch_idx = []\r\n",
        "\r\n",
        "        if len(batch_idx) > 0:\r\n",
        "            yield batch_idx\r\n",
        "\r\n",
        "    def __len__(self):\r\n",
        "        return len(self.subset) // self.batch_size"
      ],
      "execution_count": 28,
      "outputs": []
    },
    {
      "cell_type": "code",
      "metadata": {
        "id": "VtNKYRCjnr-G"
      },
      "source": [
        "from torch.utils.data import DataLoader\r\n",
        "\r\n",
        "def get_padded(values):\r\n",
        "    max_len = 0\r\n",
        "    for value in values:\r\n",
        "        if len(value) > max_len:\r\n",
        "            max_len = len(value)\r\n",
        "\r\n",
        "    padded = np.array([value + [0]*(max_len-len(value)) for value in values])\r\n",
        "    return padded\r\n",
        "\r\n",
        "def collate_fn(batch):\r\n",
        "\r\n",
        "    inputs = []\r\n",
        "    labels = []\r\n",
        "    for elem in batch:\r\n",
        "        inputs.append(elem['tokenized'])\r\n",
        "        labels.append(elem['label'])\r\n",
        "\r\n",
        "    inputs = get_padded(inputs)\r\n",
        "    attention_mask = np.where(inputs != 0, 1, 0)\r\n",
        "\r\n",
        "    return {\"inputs\": torch.tensor(inputs), \"labels\": torch.FloatTensor(labels), 'attention_mask' : torch.tensor(attention_mask)}\r\n",
        "\r\n",
        "train_loader = DataLoader(train_data, batch_sampler=ReviewsSampler(train_data), collate_fn=collate_fn)\r\n",
        "valid_loader = DataLoader(valid_data, batch_sampler=ReviewsSampler(valid_data), collate_fn=collate_fn)\r\n",
        "test_loader = DataLoader(test_data, batch_sampler=ReviewsSampler(test_data), collate_fn=collate_fn)"
      ],
      "execution_count": 29,
      "outputs": []
    },
    {
      "cell_type": "markdown",
      "metadata": {
        "id": "hWYUeYiYXWJP"
      },
      "source": [
        "# Model"
      ]
    },
    {
      "cell_type": "code",
      "metadata": {
        "id": "pH-CMnkfXWJj"
      },
      "source": [
        "from torch import nn\r\n",
        "\r\n",
        "class BertClassifier(nn.Module):\r\n",
        "  def __init__(self, pretrained_model, n_classes, dropout=0.3):\r\n",
        "    super().__init__()\r\n",
        "\r\n",
        "    self.bert = pretrained_model\r\n",
        "    self.drop = nn.Dropout(dropout)\r\n",
        "    self.out = nn.Linear(self.bert.config.hidden_size, n_classes)\r\n",
        "\r\n",
        "  def forward(self, input_ids, attention_mask):\r\n",
        "    bert_output = self.bert(input_ids=input_ids, attention_mask=attention_mask)[0][:, 0, :]\r\n",
        "\r\n",
        "    output = self.drop(bert_output)\r\n",
        "    return self.out(output)"
      ],
      "execution_count": 30,
      "outputs": []
    },
    {
      "cell_type": "code",
      "metadata": {
        "colab": {
          "base_uri": "https://localhost:8080/"
        },
        "id": "dh9WK1MNXWJk",
        "outputId": "85dc214f-951c-49b8-a064-378a7134586b"
      },
      "source": [
        "#@title **Bert model hyperparameters** { run: \"auto\" }\r\n",
        "\r\n",
        "device = torch.device(\"cuda\" if torch.cuda.is_available() else \"cpu\")\r\n",
        "print(\"Device is: \", device)\r\n",
        "\r\n",
        "EPOCHS = 4 #@param {type:\"slider\", min:1, max:10, step:1}\r\n",
        "OUTPUT_SIZE = 5 #equals to number of label classes \r\n",
        "HIDDEN_SIZES = [128, 64] #@param [\"[128, 64]\", \"[256, 128]\", \"[512, 256]\", \"[1024, 512]\", \"[2048, 1024]\"] {type:\"raw\", allow-input: true}\r\n",
        "CLIP = 1 #@param {type:\"slider\", min:0, max:10, step:1}\r\n",
        "DROPOUT = 0.3 #@param {type:\"slider\", min:0.1, max:0.9, step:0.1}"
      ],
      "execution_count": 39,
      "outputs": [
        {
          "output_type": "stream",
          "text": [
            "Device is:  cuda\n"
          ],
          "name": "stdout"
        }
      ]
    },
    {
      "cell_type": "markdown",
      "metadata": {
        "id": "uOqubUOe6b07"
      },
      "source": [
        "I would like to again use CrossEntropyLoss`s \"weight\" attribute, but in that case, google colab crashes for unknown reasons."
      ]
    },
    {
      "cell_type": "code",
      "metadata": {
        "id": "vc9dw0iaXWJn"
      },
      "source": [
        "bert_clf = BertClassifier(bert_model, OUTPUT_SIZE, DROPOUT).to(device)\r\n",
        "optimizer = torch.optim.Adam(bert_clf.parameters(), lr=2e-5)\r\n",
        "criterion = nn.CrossEntropyLoss()"
      ],
      "execution_count": 32,
      "outputs": []
    },
    {
      "cell_type": "markdown",
      "metadata": {
        "id": "a2LIqf7O6YC2"
      },
      "source": [
        "### Training\r\n"
      ]
    },
    {
      "cell_type": "code",
      "metadata": {
        "id": "0wJ_2lj5XWJo"
      },
      "source": [
        "def train(model, iterator, optimizer, criterion, clip):\r\n",
        "    model.train()\r\n",
        "\r\n",
        "    epoch_loss = 0\r\n",
        "\r\n",
        "    all_predicts = []\r\n",
        "    all_targets = []\r\n",
        "\r\n",
        "    for iteration, batch in tqdm(enumerate(iterator), total=len(iterator)):\r\n",
        "        input = batch[\"inputs\"].to(device)\r\n",
        "        attention_mask = batch[\"attention_mask\"].to(device)\r\n",
        "        labels = batch[\"labels\"]\r\n",
        "\r\n",
        "        logits = model(input, attention_mask)\r\n",
        "        loss = criterion(logits.cpu(), labels.long())\r\n",
        "\r\n",
        "        optimizer.zero_grad()\r\n",
        "        loss.backward()\r\n",
        "        torch.nn.utils.clip_grad_norm_(model.parameters(), clip)\r\n",
        "        optimizer.step()\r\n",
        "\r\n",
        "        epoch_loss += loss.item()\r\n",
        "\r\n",
        "        probs = torch.softmax(logits, 1)\r\n",
        "        preds = torch.argmax(probs, 1)\r\n",
        "\r\n",
        "        all_predicts = np.concatenate((all_predicts, preds.cpu().detach().numpy()))\r\n",
        "        all_targets = np.concatenate((all_targets, labels.cpu().detach().numpy()))\r\n",
        "\r\n",
        "    epoch_loss /= len(iterator)\r\n",
        "\r\n",
        "    return epoch_loss, f1_score(all_targets, all_predicts, average=\"weighted\")"
      ],
      "execution_count": 33,
      "outputs": []
    },
    {
      "cell_type": "code",
      "metadata": {
        "id": "z1E4ISmNXWJo"
      },
      "source": [
        "def evaluate(model, iterator, criterion):\r\n",
        "    model.eval()\r\n",
        "\r\n",
        "    all_predicts = []\r\n",
        "    all_targets = []\r\n",
        "    \r\n",
        "    epoch_loss = 0\r\n",
        "    \r\n",
        "    with torch.no_grad():\r\n",
        "        for i, batch in tqdm(enumerate(iterator), total=len(iterator)):\r\n",
        "            input = batch[\"inputs\"].to(device)\r\n",
        "            attention_mask = batch[\"attention_mask\"].to(device)\r\n",
        "            labels = batch[\"labels\"]\r\n",
        "\r\n",
        "            logits = model(input, attention_mask)\r\n",
        "            loss = criterion(logits.cpu(), labels.long())\r\n",
        "\r\n",
        "            probs = torch.softmax(logits, 1)\r\n",
        "            preds = torch.argmax(probs, 1)\r\n",
        "\r\n",
        "            all_predicts = np.concatenate((all_predicts, preds.cpu().detach().numpy()))\r\n",
        "            all_targets = np.concatenate((all_targets, labels.cpu().detach().numpy()))\r\n",
        "            \r\n",
        "            epoch_loss += loss.item()\r\n",
        "\r\n",
        "        epoch_loss /= len(iterator)\r\n",
        "        \r\n",
        "    return epoch_loss, f1_score(all_targets, all_predicts, average=\"weighted\")"
      ],
      "execution_count": 34,
      "outputs": []
    },
    {
      "cell_type": "code",
      "metadata": {
        "id": "1B13uausXWJp"
      },
      "source": [
        "MIN_LOSS = np.inf\r\n",
        "CUR_PATIENCE = 0\r\n",
        "PATIENCE = 2"
      ],
      "execution_count": 35,
      "outputs": []
    },
    {
      "cell_type": "markdown",
      "metadata": {
        "id": "mvEC4bLAzMw1"
      },
      "source": [
        "Occasionally, I did not calculate the perplexity correctly - forgot to put the loss inside np.exp function"
      ]
    },
    {
      "cell_type": "code",
      "metadata": {
        "colab": {
          "base_uri": "https://localhost:8080/",
          "height": 410,
          "referenced_widgets": [
            "504edd4810964a01a1a27bf27729fded",
            "9ad5cf61bd4641a48ac41c6fa3ddf782",
            "240565aad1374c9aa61d8d3957ad2716",
            "b4ad46eb92de4c6284ec6ff1c84608d4",
            "075eba760083462ba6cf143d0c40f877",
            "1a4ab9edfc4d47c0aa5609314b2cdbdf",
            "48c0390757bf458fa99ce5ba3591d75f",
            "4f54626c755c49e3ab4a443fd3288f90",
            "2fe817e9ff7a433581ce250a5f3824dc",
            "6fad1fe6a40b48b4a0b6742f63680aa9",
            "d9e723d9af5749d9a20ee1a26c499beb",
            "1a7f6c681ce54b829cfe6d944f90fdac",
            "8cdfe92935fe46249d1749273d12e64e",
            "80dcb8a9874f495a8d305cc61223efa3",
            "4a71d9781e944c009a1c111c0ea63913",
            "19a25f4a71cc44aea8166ded3a721abf",
            "52eeb94bf506457f9ac85b5b05f7ad4c",
            "5a9e419ee6674c46ad4ea5e77d911c98",
            "fa6578b282904ec9a3e942bfbf3ca38f",
            "2149a15b52434db0a6dd2ffd76563561",
            "436425775bcd4a009e5b0f5db97dacfa",
            "1488a44527e1447592a2ddf564b38ebe",
            "1d09411ac2924202a561ac64a01e29c1",
            "0cbd1e5f3ff84b948138b1d3f1fad1c1",
            "e672a348ecc845c6858fd15bd000440c",
            "8a146100e5984ea2b62ebd9b610ce50e",
            "3937fed9989c485083de7b044f47fd28",
            "cd5d255cdfc44c91807acb0a11b492ff",
            "ae1e0f229b6549c2ae233798ab75d564",
            "d9ec29f18a3b44d2a1e7ce508f62a38c",
            "6fc3aaf698804a8bbdfc77763c54b331",
            "f5bafd668d6e45c8b4090c017ea2c3f4",
            "c6db30fed4d144a3a3041994b08a4c32",
            "5a9af72fef1f46c8a405fa795779e0f2",
            "2f3aaa7b436148a7a25f42069cbbbc0b",
            "0a8a2c8bf12943ab9ddc6dd65bf91348",
            "5a9482d7f7c84cd4a9ab8c3eb883dd4d",
            "84b1e6e908a5447481ccd55c91fc703b",
            "04250c753d6848ef9ddc15aa5744f4b2",
            "13e8f197b2754331bf31db04110e4538",
            "0a7053cfc3ce4b25ba42fcaab31c445c",
            "a592fefc5b444e2f80aa1d298283743a",
            "5c27d5fb933e44babea6bc2992cec4d6",
            "a813b91eadd2485989eaa532f8608684",
            "6bcdb16a51164f3ea3798b8797c84ebc",
            "2fbb4a2f6c094b269948afda06cd2709",
            "e5139f8a06a64310873af219a9d34ffb",
            "a56dad7e84d7484d85de3b21e0551433"
          ]
        },
        "id": "OHzf1rKQXWJq",
        "outputId": "1d6bd234-974f-4da2-cb20-c821f3fdab3d"
      },
      "source": [
        "best_valid_loss = float('inf')\r\n",
        "for epoch in range(EPOCHS):\r\n",
        "        \r\n",
        "    train_loss, train_f1 = train(bert_clf, train_loader, optimizer, criterion, CLIP)\r\n",
        "    valid_loss, valid_f1 = evaluate(bert_clf, valid_loader, criterion)\r\n",
        "    \r\n",
        "    if valid_loss < MIN_LOSS:\r\n",
        "        MIN_LOSS = valid_loss\r\n",
        "        best_model = bert_clf.state_dict()\r\n",
        "    else:\r\n",
        "        CUR_PATIENCE += 1\r\n",
        "        if CUR_PATIENCE == PATIENCE:\r\n",
        "            CUR_PATIENCE = 0\r\n",
        "            break\r\n",
        "\r\n",
        "    torch.save(best_model, 'best-val-bert-model.pt')\r\n",
        "\r\n",
        "    print(f'\\tTrain Loss: {train_loss:.3f} | Train PPL: {train_loss:.3f}')\r\n",
        "    print(f'\\t Val. Loss: {valid_loss:.3f} |  Val. PPL: {valid_loss:.3f}')\r\n",
        "    print(f'\\tTrain f1_score: {train_f1:.3f} | Valid f1_score: {valid_f1:.3f}')"
      ],
      "execution_count": 40,
      "outputs": [
        {
          "output_type": "display_data",
          "data": {
            "application/vnd.jupyter.widget-view+json": {
              "model_id": "504edd4810964a01a1a27bf27729fded",
              "version_major": 2,
              "version_minor": 0
            },
            "text/plain": [
              "HBox(children=(FloatProgress(value=0.0, max=12495.0), HTML(value='')))"
            ]
          },
          "metadata": {
            "tags": []
          }
        },
        {
          "output_type": "stream",
          "text": [
            "\n"
          ],
          "name": "stdout"
        },
        {
          "output_type": "display_data",
          "data": {
            "application/vnd.jupyter.widget-view+json": {
              "model_id": "2fe817e9ff7a433581ce250a5f3824dc",
              "version_major": 2,
              "version_minor": 0
            },
            "text/plain": [
              "HBox(children=(FloatProgress(value=0.0, max=1561.0), HTML(value='')))"
            ]
          },
          "metadata": {
            "tags": []
          }
        },
        {
          "output_type": "stream",
          "text": [
            "\n",
            "\tTrain Loss: 0.519 | Train PPL: 0.519\n",
            "\t Val. Loss: 0.566 |  Val. PPL: 0.566\n",
            "\tTrain f1_score: 0.778 | Valid f1_score: 0.775\n"
          ],
          "name": "stdout"
        },
        {
          "output_type": "display_data",
          "data": {
            "application/vnd.jupyter.widget-view+json": {
              "model_id": "52eeb94bf506457f9ac85b5b05f7ad4c",
              "version_major": 2,
              "version_minor": 0
            },
            "text/plain": [
              "HBox(children=(FloatProgress(value=0.0, max=12495.0), HTML(value='')))"
            ]
          },
          "metadata": {
            "tags": []
          }
        },
        {
          "output_type": "stream",
          "text": [
            "\n"
          ],
          "name": "stdout"
        },
        {
          "output_type": "display_data",
          "data": {
            "application/vnd.jupyter.widget-view+json": {
              "model_id": "e672a348ecc845c6858fd15bd000440c",
              "version_major": 2,
              "version_minor": 0
            },
            "text/plain": [
              "HBox(children=(FloatProgress(value=0.0, max=1561.0), HTML(value='')))"
            ]
          },
          "metadata": {
            "tags": []
          }
        },
        {
          "output_type": "stream",
          "text": [
            "\n",
            "\tTrain Loss: 0.478 | Train PPL: 0.478\n",
            "\t Val. Loss: 0.570 |  Val. PPL: 0.570\n",
            "\tTrain f1_score: 0.799 | Valid f1_score: 0.777\n"
          ],
          "name": "stdout"
        },
        {
          "output_type": "display_data",
          "data": {
            "application/vnd.jupyter.widget-view+json": {
              "model_id": "c6db30fed4d144a3a3041994b08a4c32",
              "version_major": 2,
              "version_minor": 0
            },
            "text/plain": [
              "HBox(children=(FloatProgress(value=0.0, max=12495.0), HTML(value='')))"
            ]
          },
          "metadata": {
            "tags": []
          }
        },
        {
          "output_type": "stream",
          "text": [
            "\n"
          ],
          "name": "stdout"
        },
        {
          "output_type": "display_data",
          "data": {
            "application/vnd.jupyter.widget-view+json": {
              "model_id": "0a7053cfc3ce4b25ba42fcaab31c445c",
              "version_minor": 0,
              "version_major": 2
            },
            "text/plain": [
              "HBox(children=(FloatProgress(value=0.0, max=1561.0), HTML(value='')))"
            ]
          },
          "metadata": {
            "tags": []
          }
        },
        {
          "output_type": "stream",
          "text": [
            "\n"
          ],
          "name": "stdout"
        }
      ]
    },
    {
      "cell_type": "code",
      "metadata": {
        "colab": {
          "base_uri": "https://localhost:8080/"
        },
        "id": "KVpZNK56UZc2",
        "outputId": "37d6b494-85d8-43fd-a76a-4763ae43071e"
      },
      "source": [
        "print(f'\\tTrain Loss: {train_loss:.3f} | Train PPL: {np.exp(train_loss):.3f}')\r\n",
        "print(f'\\t Val. Loss: {valid_loss:.3f} |  Val. PPL: {np.exp(valid_loss):.3f}')\r\n",
        "print(f'\\tTrain f1_score: {train_f1:.3f} | Valid f1_score: {valid_f1:.3f}')"
      ],
      "execution_count": 42,
      "outputs": [
        {
          "output_type": "stream",
          "text": [
            "\tTrain Loss: 0.436 | Train PPL: 1.547\n",
            "\t Val. Loss: 0.590 |  Val. PPL: 1.803\n",
            "\tTrain f1_score: 0.821 | Valid f1_score: 0.779\n"
          ],
          "name": "stdout"
        }
      ]
    },
    {
      "cell_type": "code",
      "metadata": {
        "id": "p_TNarLf4ikV"
      },
      "source": [
        "gdown.download(\"https://drive.google.com/u/0/uc?export=download&confirm=RO3P&id=1dveHP-KZPWDXLCXWWntFPDlGdAIF3MAK\", \"bert_clf.pt\", True)"
      ],
      "execution_count": null,
      "outputs": []
    },
    {
      "cell_type": "code",
      "metadata": {
        "id": "8zfBK6w949O0"
      },
      "source": [
        "bert_clf = BertClassifier(bert_model, OUTPUT_SIZE, DROPOUT).to(device)\r\n",
        "bert_clf.load_state_dict(torch.load(\"/content/bert_clf.pt\"))"
      ],
      "execution_count": null,
      "outputs": []
    },
    {
      "cell_type": "markdown",
      "metadata": {
        "id": "bd6A4eM7zpku"
      },
      "source": [
        "### Testing"
      ]
    },
    {
      "cell_type": "code",
      "metadata": {
        "id": "V5Vi113Ryw1K"
      },
      "source": [
        "def test(test_iterator, model, device):\r\n",
        "    model.eval()\r\n",
        "\r\n",
        "    all_predicts = []\r\n",
        "    all_targets = []\r\n",
        "\r\n",
        "    history = []\r\n",
        "    \r\n",
        "    for iteration, batch in tqdm(enumerate(test_iterator), total=len(test_iterator)):\r\n",
        "        input = batch[\"inputs\"].to(device)\r\n",
        "        attention_mask = batch[\"attention_mask\"].to(device)\r\n",
        "        labels = batch[\"labels\"]\r\n",
        "\r\n",
        "        logits = model(input, attention_mask)\r\n",
        "\r\n",
        "        probs = torch.softmax(logits, 1)\r\n",
        "        preds = torch.argmax(probs, 1)\r\n",
        "\r\n",
        "        all_predicts = np.concatenate((all_predicts, preds.cpu().detach().numpy()))\r\n",
        "        all_targets = np.concatenate((all_targets, labels.cpu().detach().numpy()))\r\n",
        "        \r\n",
        "    print(\"F1 score: \", f1_score(all_targets, all_predicts, average=\"weighted\"))"
      ],
      "execution_count": 46,
      "outputs": []
    },
    {
      "cell_type": "code",
      "metadata": {
        "colab": {
          "base_uri": "https://localhost:8080/",
          "height": 82,
          "referenced_widgets": [
            "361f43aab5574ea4b9d4ec1b65fdff4a",
            "dbe1fe6667034a498f6de4df5981bc6f",
            "03ec2d6543dc4887a04029397592f92e",
            "f9f9ef82802d4b5890ad730c916daf15",
            "c0d180727ce0419789468729b876591a",
            "84f29db36bfb4647bf393477b811c886",
            "7e2666bdf33b4f679b3a7413c590c4e0",
            "a4353fa533f0490baf0fb84d05d77d5d"
          ]
        },
        "id": "0VQCP-wUztZs",
        "outputId": "c970f39d-c373-45a2-db2a-22d28df667f6"
      },
      "source": [
        "test(test_loader, bert_clf, device)"
      ],
      "execution_count": 47,
      "outputs": [
        {
          "output_type": "display_data",
          "data": {
            "application/vnd.jupyter.widget-view+json": {
              "model_id": "361f43aab5574ea4b9d4ec1b65fdff4a",
              "version_minor": 0,
              "version_major": 2
            },
            "text/plain": [
              "HBox(children=(FloatProgress(value=0.0, max=1561.0), HTML(value='')))"
            ]
          },
          "metadata": {
            "tags": []
          }
        },
        {
          "output_type": "stream",
          "text": [
            "\n",
            "F1 score:  0.7779127787284364\n"
          ],
          "name": "stdout"
        }
      ]
    },
    {
      "cell_type": "markdown",
      "metadata": {
        "id": "RCfHCV9C0o-9"
      },
      "source": [
        "### Predicting"
      ]
    },
    {
      "cell_type": "code",
      "metadata": {
        "id": "AXsuTt7s0CAH"
      },
      "source": [
        "def predict_rate(sentence):\r\n",
        "    tokens = bert_tokenizer.encode(sentence)\r\n",
        "    attention_mask = torch.ones(len(tokens)).unsqueeze(0).to(device)\r\n",
        "    inputs = torch.LongTensor(tokens).unsqueeze(0).to(device)\r\n",
        "\r\n",
        "    bert_clf.eval()\r\n",
        "    logits = bert_clf(inputs, attention_mask)\r\n",
        "\r\n",
        "    probs = torch.softmax(logits, 1)\r\n",
        "    prediction = torch.argmax(probs, 1)\r\n",
        "\r\n",
        "    return prediction.item() + 1"
      ],
      "execution_count": 97,
      "outputs": []
    },
    {
      "cell_type": "code",
      "metadata": {
        "colab": {
          "base_uri": "https://localhost:8080/"
        },
        "id": "SFLRLo1Q1Vka",
        "outputId": "2f238fc8-18f4-4f13-81d9-8580034f615b"
      },
      "source": [
        "sentence = \"That's fascinating!\"\r\n",
        "predict_rate(sentence)"
      ],
      "execution_count": 100,
      "outputs": [
        {
          "output_type": "execute_result",
          "data": {
            "text/plain": [
              "5"
            ]
          },
          "metadata": {
            "tags": []
          },
          "execution_count": 100
        }
      ]
    },
    {
      "cell_type": "code",
      "metadata": {
        "colab": {
          "base_uri": "https://localhost:8080/"
        },
        "id": "vp8UTaMU3DIt",
        "outputId": "0fa37828-e975-4684-9360-6fdc58ab5e13"
      },
      "source": [
        "sentence = \"Difficult to say\"\r\n",
        "predict_rate(sentence)"
      ],
      "execution_count": 101,
      "outputs": [
        {
          "output_type": "execute_result",
          "data": {
            "text/plain": [
              "3"
            ]
          },
          "metadata": {
            "tags": []
          },
          "execution_count": 101
        }
      ]
    },
    {
      "cell_type": "code",
      "metadata": {
        "colab": {
          "base_uri": "https://localhost:8080/"
        },
        "id": "Re2cQ_gE4Ttx",
        "outputId": "3a4c24fb-9874-4faa-d1bd-df8794ca8120"
      },
      "source": [
        "sentence = \"Don't reccomend at all\"\r\n",
        "predict_rate(sentence)"
      ],
      "execution_count": 102,
      "outputs": [
        {
          "output_type": "execute_result",
          "data": {
            "text/plain": [
              "1"
            ]
          },
          "metadata": {
            "tags": []
          },
          "execution_count": 102
        }
      ]
    },
    {
      "cell_type": "code",
      "metadata": {
        "colab": {
          "base_uri": "https://localhost:8080/"
        },
        "id": "evcZySJM4Wc_",
        "outputId": "3c5a3c62-d554-4282-fcfd-13d2cd16ebfa"
      },
      "source": [
        "sentence = \"Money waste\"\r\n",
        "predict_rate(sentence)"
      ],
      "execution_count": 103,
      "outputs": [
        {
          "output_type": "execute_result",
          "data": {
            "text/plain": [
              "1"
            ]
          },
          "metadata": {
            "tags": []
          },
          "execution_count": 103
        }
      ]
    },
    {
      "cell_type": "code",
      "metadata": {
        "colab": {
          "base_uri": "https://localhost:8080/"
        },
        "id": "AyHi2coD4aZk",
        "outputId": "fd0466be-b9bf-4055-db99-3531d3e26b87"
      },
      "source": [
        "sentence = \"I probably will buy again in that store\"\r\n",
        "predict_rate(sentence)"
      ],
      "execution_count": 104,
      "outputs": [
        {
          "output_type": "execute_result",
          "data": {
            "text/plain": [
              "4"
            ]
          },
          "metadata": {
            "tags": []
          },
          "execution_count": 104
        }
      ]
    }
  ]
}